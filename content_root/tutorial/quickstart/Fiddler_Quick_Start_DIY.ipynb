{
  "nbformat": 4,
  "nbformat_minor": 0,
  "metadata": {
    "colab": {
      "name": "Fiddler_Quick_Start_DIY.ipynb",
      "provenance": [],
      "collapsed_sections": []
    },
    "kernelspec": {
      "display_name": "Python 3",
      "language": "python",
      "name": "python3"
    },
    "language_info": {
      "codemirror_mode": {
        "name": "ipython",
        "version": 3
      },
      "file_extension": ".py",
      "mimetype": "text/x-python",
      "name": "python",
      "nbconvert_exporter": "python",
      "pygments_lexer": "ipython3",
      "version": "3.7.10"
    }
  },
  "cells": [
    {
      "cell_type": "markdown",
      "metadata": {
        "id": "KxxiKou3wZTw"
      },
      "source": [
        "# Fiddler DIY Quick Start Working Notebook\n",
        "\n",
        "You can start using Fiddler ***in minutes*** by following these five quick steps:\n",
        "\n",
        "1. Connect to Fiddler\n",
        "2. Upload a baseline dataset\n",
        "3. Register your model with Fiddler\n",
        "4. Publish production events\n",
        "5. Get insights"
      ]
    },
    {
      "cell_type": "markdown",
      "metadata": {
        "id": "wUZi_5s7wsGA"
      },
      "source": [
        "## 0. Imports"
      ]
    },
    {
      "cell_type": "code",
      "metadata": {
        "id": "Pg-BdRJ4w3LM"
      },
      "source": [
        "!pip install -q fiddler-client;\n",
        "\n",
        "import numpy as np\n",
        "import pandas as pd\n",
        "import fiddler as fdl\n",
        "\n",
        "print(f\"Running client version {fdl.__version__}\")"
      ],
      "execution_count": null,
      "outputs": []
    },
    {
      "cell_type": "markdown",
      "metadata": {
        "id": "hcP0yWfV1GoZ"
      },
      "source": [
        "## 1. Connect to Fiddler"
      ]
    },
    {
      "cell_type": "code",
      "metadata": {
        "id": "05hPBZHr1eBv"
      },
      "source": [
        "URL = #\n",
        "ORG_ID = #\n",
        "AUTH_TOKEN = #\n",
        "\n",
        "client = fdl.FiddlerApi(\n",
        "    url=URL,\n",
        "    org_id=ORG_ID,\n",
        "    auth_token=AUTH_TOKEN\n",
        ")"
      ],
      "execution_count": null,
      "outputs": []
    },
    {
      "cell_type": "code",
      "metadata": {
        "id": "vh46Mp1MBSMj"
      },
      "source": [
        "PROJECT_ID = #\n",
        "\n",
        "client.create_project(PROJECT_ID)"
      ],
      "execution_count": null,
      "outputs": []
    },
    {
      "cell_type": "markdown",
      "metadata": {
        "id": "V3V2EhIdwA_Q"
      },
      "source": [
        "## 2. Upload a baseline dataset\n",
        "\n",
        "*For more information on how to design a baseline dataset, [click here](https://docs.fiddler.ai/pages/user-guide/data-science-concepts/monitoring/designing-a-baseline-dataset/).*"
      ]
    },
    {
      "cell_type": "code",
      "metadata": {
        "id": "TFVJcU8uCY7z"
      },
      "source": [
        "PATH_TO_BASELINE_CSV = #\n",
        "\n",
        "baseline_df = pd.read_csv(PATH_TO_BASELINE_CSV)\n",
        "baseline_df"
      ],
      "execution_count": null,
      "outputs": []
    },
    {
      "cell_type": "code",
      "metadata": {
        "id": "TI_x9-T93G-v"
      },
      "source": [
        "dataset_info = fdl.DatasetInfo.from_dataframe(baseline_df, max_inferred_cardinality=100)\n",
        "dataset_info"
      ],
      "execution_count": null,
      "outputs": []
    },
    {
      "cell_type": "code",
      "metadata": {
        "id": "Nk0Bpus92oJK"
      },
      "source": [
        "DATASET_ID = #\n",
        "\n",
        "client.upload_dataset(\n",
        "    project_id=PROJECT_ID,\n",
        "    dataset_id=DATASET_ID,\n",
        "    dataset={\n",
        "        'baseline': baseline_df\n",
        "    },\n",
        "    info=dataset_info\n",
        ")"
      ],
      "execution_count": null,
      "outputs": []
    },
    {
      "cell_type": "markdown",
      "metadata": {
        "id": "IK3sL73_4FxO"
      },
      "source": [
        "## 3. Register your model\n"
      ]
    },
    {
      "cell_type": "code",
      "metadata": {
        "id": "kpKz2dDK4ZiV"
      },
      "source": [
        "# Specify task\n",
        "model_task = #\n",
        "\n",
        "if model_task == 'regression':\n",
        "    model_task = fdl.ModelTask.REGRESSION\n",
        "    \n",
        "elif model_task == 'binary':\n",
        "    model_task = fdl.ModelTask.BINARY_CLASSIFICATION\n",
        "\n",
        "elif model_task == 'multiclass':\n",
        "    model_task = fdl.ModelTask.MULTICLASS_CLASSIFICATION\n",
        "\n",
        "    \n",
        "# Specify column types\n",
        "target = #\n",
        "outputs = [#]\n",
        "decision_cols = [#]\n",
        "features = [#]\n",
        "    \n",
        "# Generate ModelInfo\n",
        "model_info = fdl.ModelInfo.from_dataset_info(\n",
        "    dataset_info=dataset_info,\n",
        "    dataset_id=DATASET_ID,\n",
        "    model_task=model_task,\n",
        "    target=target,\n",
        "    outputs=outputs,\n",
        "    decision_cols=decision_cols,\n",
        "    features=features\n",
        ")\n",
        "model_info"
      ],
      "execution_count": null,
      "outputs": []
    },
    {
      "cell_type": "code",
      "metadata": {
        "id": "HMDG9vei24pw"
      },
      "source": [
        "MODEL_ID = #\n",
        "\n",
        "client.register_model(\n",
        "    project_id=PROJECT_ID,\n",
        "    dataset_id=DATASET_ID,\n",
        "    model_id=MODEL_ID,\n",
        "    model_info=model_info\n",
        ")"
      ],
      "execution_count": null,
      "outputs": []
    },
    {
      "cell_type": "markdown",
      "metadata": {
        "id": "GZNJ5NNm5vnA"
      },
      "source": [
        "## 4. Publish production events"
      ]
    },
    {
      "cell_type": "code",
      "metadata": {
        "id": "1dmA8PP7GTdJ"
      },
      "source": [
        "PATH_TO_EVENTS_CSV = #\n",
        "\n",
        "production_df = pd.read_csv(PATH_TO_EVENTS_CSV)\n",
        "production_df"
      ],
      "execution_count": null,
      "outputs": []
    },
    {
      "cell_type": "code",
      "metadata": {
        "id": "gBYWjOlWGc0Q"
      },
      "source": [
        "production_events = production_df.to_dict(orient='records')\n",
        "production_events[0]"
      ],
      "execution_count": null,
      "outputs": []
    },
    {
      "cell_type": "code",
      "metadata": {
        "id": "TI-gqrMmhEOe"
      },
      "source": [
        "from tqdm import tqdm\n",
        "\n",
        "for event in tqdm(production_events):\n",
        "\n",
        "    client.publish_event(\n",
        "        project_id=PROJECT_ID,\n",
        "        model_id=MODEL_ID,\n",
        "        event=event,\n",
        "        event_timestamp=event['timestamp']\n",
        "    )"
      ],
      "execution_count": null,
      "outputs": []
    },
    {
      "cell_type": "markdown",
      "metadata": {
        "id": "vR6IR8YNHgG1"
      },
      "source": [
        "## 5. Get insights\n",
        "\n",
        "**You're all done!**\n",
        "\n",
        "Run the following code block to get your URL."
      ]
    },
    {
      "cell_type": "code",
      "metadata": {
        "id": "VPjFE5USNsrF"
      },
      "source": [
        "print('/'.join([URL, 'projects', PROJECT_ID, 'models', MODEL_ID, 'monitor']))"
      ],
      "execution_count": null,
      "outputs": []
    },
    {
      "cell_type": "markdown",
      "metadata": {
        "id": "-DZMVHAEBzC_"
      },
      "source": [
        "*Please allow 3-5 minutes for monitoring data to populate the charts.*"
      ]
    },
    {
      "cell_type": "markdown",
      "metadata": {
        "id": "Jdkj1eHgOTAO"
      },
      "source": [
        "\n",
        "\n",
        "---\n",
        "\n",
        "\n",
        "**Questions?**  \n",
        "  \n",
        "Check out [our docs](https://docs.fiddler.ai/) for a more detailed explanation of what Fiddler has to offer.\n",
        "\n",
        "If you're still looking for answers, fill out a ticket on [our support page](https://fiddlerlabs.zendesk.com/) and we'll get back to you shortly."
      ]
    }
  ]
}