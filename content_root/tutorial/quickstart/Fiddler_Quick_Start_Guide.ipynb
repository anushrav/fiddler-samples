{
  "nbformat": 4,
  "nbformat_minor": 0,
  "metadata": {
    "colab": {
      "name": "Fiddler_Quick_Start_Guide.ipynb",
      "provenance": [],
      "collapsed_sections": []
    },
    "kernelspec": {
      "display_name": "Python 3",
      "language": "python",
      "name": "python3"
    },
    "language_info": {
      "codemirror_mode": {
        "name": "ipython",
        "version": 3
      },
      "file_extension": ".py",
      "mimetype": "text/x-python",
      "name": "python",
      "nbconvert_exporter": "python",
      "pygments_lexer": "ipython3",
      "version": "3.7.10"
    }
  },
  "cells": [
    {
      "cell_type": "markdown",
      "metadata": {
        "id": "KxxiKou3wZTw"
      },
      "source": [
        "# Fiddler Quick Start Guide\n",
        "\n",
        "Fiddler is a powerful observability tool for monitoring the health of your ML models in production.  \n",
        "With the ability to set **realtime alerts** on metrics like **model performance**, **data drift**, and **data integrity**, Fiddler generates value at every stage of the production lifecycle.\n",
        "\n",
        "\n",
        "---\n",
        "\n",
        "\n",
        "You can start using Fiddler ***in minutes*** by following these five quick steps:\n",
        "\n",
        "1. Connect to Fiddler\n",
        "2. Upload a baseline dataset\n",
        "3. Register your model with Fiddler\n",
        "4. Publish production events\n",
        "5. Get insights"
      ]
    },
    {
      "cell_type": "markdown",
      "metadata": {
        "id": "wUZi_5s7wsGA"
      },
      "source": [
        "## 0. Imports"
      ]
    },
    {
      "cell_type": "code",
      "metadata": {
        "id": "Pg-BdRJ4w3LM",
        "colab": {
          "base_uri": "https://localhost:8080/"
        },
        "outputId": "714f5274-152e-4073-8c85-8fb8eb0e1414"
      },
      "source": [
        "!pip install -q fiddler-client;\n",
        "\n",
        "import numpy as np\n",
        "import pandas as pd\n",
        "import fiddler as fdl\n",
        "\n",
        "print(f\"Running client version {fdl.__version__}\")"
      ],
      "execution_count": null,
      "outputs": [
        {
          "output_type": "stream",
          "text": [
            "\u001b[K     |████████████████████████████████| 67 kB 2.7 MB/s \n",
            "\u001b[K     |████████████████████████████████| 7.8 MB 11.8 MB/s \n",
            "\u001b[K     |████████████████████████████████| 131 kB 39.0 MB/s \n",
            "\u001b[K     |████████████████████████████████| 66 kB 2.5 MB/s \n",
            "\u001b[K     |████████████████████████████████| 79 kB 4.4 MB/s \n",
            "\u001b[K     |████████████████████████████████| 138 kB 52.1 MB/s \n",
            "\u001b[K     |████████████████████████████████| 127 kB 56.2 MB/s \n",
            "\u001b[?25h  Building wheel for ordered-set (setup.py) ... \u001b[?25l\u001b[?25hdone\n",
            "\u001b[31mERROR: pip's dependency resolver does not currently take into account all the packages that are installed. This behaviour is the source of the following dependency conflicts.\n",
            "datascience 0.10.6 requires folium==0.2.1, but you have folium 0.8.3 which is incompatible.\u001b[0m\n",
            "Running client version 0.7.5\n"
          ],
          "name": "stdout"
        }
      ]
    },
    {
      "cell_type": "markdown",
      "metadata": {
        "id": "hcP0yWfV1GoZ"
      },
      "source": [
        "## 1. Connect to Fiddler\n",
        "\n",
        "Before you can register your model with Fiddler, you'll need to connect using our API client.\n",
        "\n",
        "\n",
        "---\n",
        "\n",
        "\n",
        "**We need a few pieces of information to get started.**\n",
        "1. The URL you're using to connect to Fiddler"
      ]
    },
    {
      "cell_type": "code",
      "metadata": {
        "id": "05hPBZHr1eBv"
      },
      "source": [
        "URL = #"
      ],
      "execution_count": null,
      "outputs": []
    },
    {
      "cell_type": "markdown",
      "metadata": {
        "id": "c2B7cgPa2Ajo"
      },
      "source": [
        "2. Your organization ID\n",
        "3. Your authorization token\n",
        "\n",
        "Both of these can be found by clicking the URL you entered and navigating to the **Settings** page.\n",
        "\n",
        "<table>\n",
        "    <tr>\n",
        "        <td><img src=\"https://fiddler-nb-assets.s3.us-west-1.amazonaws.com/qs_settings_page_numbered.png\" /></td>\n",
        "        <td><img src=\"https://fiddler-nb-assets.s3.us-west-1.amazonaws.com/qs_org_id_numbered.png\" /></td>\n",
        "    </tr>\n",
        "    <tr>\n",
        "        <td><img src=\"https://fiddler-nb-assets.s3.us-west-1.amazonaws.com/qs_new_key_numbered.png\" /></td>\n",
        "        <td><img src=\"https://fiddler-nb-assets.s3.us-west-1.amazonaws.com/qs_auth_token_numbered.png\" /></td>\n",
        "    </tr>\n",
        "</table>"
      ]
    },
    {
      "cell_type": "code",
      "metadata": {
        "id": "CWErNsofAz6B"
      },
      "source": [
        "ORG_ID = #\n",
        "AUTH_TOKEN = #"
      ],
      "execution_count": null,
      "outputs": []
    },
    {
      "cell_type": "markdown",
      "metadata": {
        "id": "4EttApX9BBIn"
      },
      "source": [
        "Now just run the following code block to connect to the Fiddler API!"
      ]
    },
    {
      "cell_type": "code",
      "metadata": {
        "id": "g6ONUHliBAsH"
      },
      "source": [
        "client = fdl.FiddlerApi(\n",
        "    url=URL,\n",
        "    org_id=ORG_ID,\n",
        "    auth_token=AUTH_TOKEN\n",
        ")"
      ],
      "execution_count": null,
      "outputs": []
    },
    {
      "cell_type": "markdown",
      "metadata": {
        "id": "QpUHeE3dBTHD"
      },
      "source": [
        "Once you connect, you can create a new project by specifying a unique project ID in the client's `create_project` function."
      ]
    },
    {
      "cell_type": "code",
      "metadata": {
        "colab": {
          "base_uri": "https://localhost:8080/"
        },
        "id": "vh46Mp1MBSMj",
        "outputId": "111f53fc-c46d-4922-8c46-87e648be93e6"
      },
      "source": [
        "PROJECT_ID = 'quickstart_example'\n",
        "\n",
        "client.create_project(PROJECT_ID)"
      ],
      "execution_count": null,
      "outputs": [
        {
          "output_type": "execute_result",
          "data": {
            "text/plain": [
              "{'project_name': 'quickstart_example'}"
            ]
          },
          "metadata": {
            "tags": []
          },
          "execution_count": 5
        }
      ]
    },
    {
      "cell_type": "markdown",
      "metadata": {
        "id": "tlp8zEvlqO8I"
      },
      "source": [
        "You should now be able to see the newly created project on the UI.\n",
        "\n",
        "<table>\n",
        "    <tr>\n",
        "        <td>\n",
        "            <img src=\"https://fiddler-nb-assets.s3.us-west-1.amazonaws.com/qs_new_project.png\" />\n",
        "        </td>\n",
        "    </tr>\n",
        "</table>"
      ]
    },
    {
      "cell_type": "markdown",
      "metadata": {
        "id": "V3V2EhIdwA_Q"
      },
      "source": [
        "## 2. Upload a baseline dataset\n",
        "\n",
        "In this example, we'll be considering the case where we're a bank and we have **a model that predicts churn for our customers**.  \n",
        "We want to know when our model's predictions start to drift—that is, **when churn starts to increase** within our customer base.\n",
        "  \n",
        "In order to get insights into the model's performance, **Fiddler needs a small  sample of data that can serve as a baseline** for making comparisons with data in production.\n",
        "\n",
        "\n",
        "---\n",
        "\n",
        "\n",
        "*For more information on how to design a baseline dataset, [click here](http://internal.docs.fiddler.ai.s3-website-us-west-1.amazonaws.com/pages/user-guide/data-science-concepts/monitoring/constructing-a-baseline-dataset/).*"
      ]
    },
    {
      "cell_type": "code",
      "metadata": {
        "colab": {
          "base_uri": "https://localhost:8080/",
          "height": 419
        },
        "id": "TFVJcU8uCY7z",
        "outputId": "03dcc20a-4e2a-4691-d5ac-e58173191956"
      },
      "source": [
        "PATH_TO_BASELINE_CSV = 'https://raw.githubusercontent.com/fiddler-labs/fiddler-samples/new-quickstart/content_root/tutorial/quickstart/churn_baseline.csv'\n",
        "\n",
        "baseline_df = pd.read_csv(PATH_TO_BASELINE_CSV)\n",
        "baseline_df"
      ],
      "execution_count": null,
      "outputs": [
        {
          "output_type": "execute_result",
          "data": {
            "text/html": [
              "<div>\n",
              "<style scoped>\n",
              "    .dataframe tbody tr th:only-of-type {\n",
              "        vertical-align: middle;\n",
              "    }\n",
              "\n",
              "    .dataframe tbody tr th {\n",
              "        vertical-align: top;\n",
              "    }\n",
              "\n",
              "    .dataframe thead th {\n",
              "        text-align: right;\n",
              "    }\n",
              "</style>\n",
              "<table border=\"1\" class=\"dataframe\">\n",
              "  <thead>\n",
              "    <tr style=\"text-align: right;\">\n",
              "      <th></th>\n",
              "      <th>creditscore</th>\n",
              "      <th>geography</th>\n",
              "      <th>gender</th>\n",
              "      <th>age</th>\n",
              "      <th>tenure</th>\n",
              "      <th>balance</th>\n",
              "      <th>numofproducts</th>\n",
              "      <th>hascrcard</th>\n",
              "      <th>isactivemember</th>\n",
              "      <th>estimatedsalary</th>\n",
              "      <th>churn</th>\n",
              "      <th>predicted_churn</th>\n",
              "      <th>decision</th>\n",
              "    </tr>\n",
              "  </thead>\n",
              "  <tbody>\n",
              "    <tr>\n",
              "      <th>0</th>\n",
              "      <td>545</td>\n",
              "      <td>Texas</td>\n",
              "      <td>Male</td>\n",
              "      <td>37</td>\n",
              "      <td>9</td>\n",
              "      <td>110483.86</td>\n",
              "      <td>1</td>\n",
              "      <td>1</td>\n",
              "      <td>1</td>\n",
              "      <td>127394.67</td>\n",
              "      <td>yes</td>\n",
              "      <td>0.897202</td>\n",
              "      <td>low_risk</td>\n",
              "    </tr>\n",
              "    <tr>\n",
              "      <th>1</th>\n",
              "      <td>497</td>\n",
              "      <td>Texas</td>\n",
              "      <td>Female</td>\n",
              "      <td>55</td>\n",
              "      <td>7</td>\n",
              "      <td>131778.66</td>\n",
              "      <td>1</td>\n",
              "      <td>1</td>\n",
              "      <td>1</td>\n",
              "      <td>9972.64</td>\n",
              "      <td>yes</td>\n",
              "      <td>0.997441</td>\n",
              "      <td>low_risk</td>\n",
              "    </tr>\n",
              "    <tr>\n",
              "      <th>2</th>\n",
              "      <td>509</td>\n",
              "      <td>New York</td>\n",
              "      <td>Female</td>\n",
              "      <td>29</td>\n",
              "      <td>0</td>\n",
              "      <td>107712.57</td>\n",
              "      <td>2</td>\n",
              "      <td>1</td>\n",
              "      <td>1</td>\n",
              "      <td>92898.17</td>\n",
              "      <td>yes</td>\n",
              "      <td>0.920563</td>\n",
              "      <td>low_risk</td>\n",
              "    </tr>\n",
              "    <tr>\n",
              "      <th>3</th>\n",
              "      <td>743</td>\n",
              "      <td>Hawaii</td>\n",
              "      <td>Nonbinary</td>\n",
              "      <td>39</td>\n",
              "      <td>6</td>\n",
              "      <td>0.00</td>\n",
              "      <td>2</td>\n",
              "      <td>1</td>\n",
              "      <td>0</td>\n",
              "      <td>44265.28</td>\n",
              "      <td>yes</td>\n",
              "      <td>0.779282</td>\n",
              "      <td>low_risk</td>\n",
              "    </tr>\n",
              "    <tr>\n",
              "      <th>4</th>\n",
              "      <td>699</td>\n",
              "      <td>Florida</td>\n",
              "      <td>Female</td>\n",
              "      <td>25</td>\n",
              "      <td>8</td>\n",
              "      <td>0.00</td>\n",
              "      <td>2</td>\n",
              "      <td>1</td>\n",
              "      <td>1</td>\n",
              "      <td>52404.47</td>\n",
              "      <td>yes</td>\n",
              "      <td>0.825474</td>\n",
              "      <td>low_risk</td>\n",
              "    </tr>\n",
              "    <tr>\n",
              "      <th>...</th>\n",
              "      <td>...</td>\n",
              "      <td>...</td>\n",
              "      <td>...</td>\n",
              "      <td>...</td>\n",
              "      <td>...</td>\n",
              "      <td>...</td>\n",
              "      <td>...</td>\n",
              "      <td>...</td>\n",
              "      <td>...</td>\n",
              "      <td>...</td>\n",
              "      <td>...</td>\n",
              "      <td>...</td>\n",
              "      <td>...</td>\n",
              "    </tr>\n",
              "    <tr>\n",
              "      <th>19995</th>\n",
              "      <td>686</td>\n",
              "      <td>Texas</td>\n",
              "      <td>Male</td>\n",
              "      <td>39</td>\n",
              "      <td>3</td>\n",
              "      <td>129626.19</td>\n",
              "      <td>2</td>\n",
              "      <td>1</td>\n",
              "      <td>1</td>\n",
              "      <td>103220.56</td>\n",
              "      <td>yes</td>\n",
              "      <td>0.760645</td>\n",
              "      <td>low_risk</td>\n",
              "    </tr>\n",
              "    <tr>\n",
              "      <th>19996</th>\n",
              "      <td>446</td>\n",
              "      <td>Massachusetts</td>\n",
              "      <td>Female</td>\n",
              "      <td>45</td>\n",
              "      <td>10</td>\n",
              "      <td>125191.69</td>\n",
              "      <td>1</td>\n",
              "      <td>1</td>\n",
              "      <td>1</td>\n",
              "      <td>128260.86</td>\n",
              "      <td>no</td>\n",
              "      <td>0.216093</td>\n",
              "      <td>high_risk</td>\n",
              "    </tr>\n",
              "    <tr>\n",
              "      <th>19997</th>\n",
              "      <td>794</td>\n",
              "      <td>California</td>\n",
              "      <td>Male</td>\n",
              "      <td>35</td>\n",
              "      <td>6</td>\n",
              "      <td>0.00</td>\n",
              "      <td>2</td>\n",
              "      <td>1</td>\n",
              "      <td>1</td>\n",
              "      <td>68730.91</td>\n",
              "      <td>yes</td>\n",
              "      <td>0.982021</td>\n",
              "      <td>low_risk</td>\n",
              "    </tr>\n",
              "    <tr>\n",
              "      <th>19998</th>\n",
              "      <td>832</td>\n",
              "      <td>California</td>\n",
              "      <td>Male</td>\n",
              "      <td>61</td>\n",
              "      <td>2</td>\n",
              "      <td>0.00</td>\n",
              "      <td>1</td>\n",
              "      <td>0</td>\n",
              "      <td>1</td>\n",
              "      <td>127804.66</td>\n",
              "      <td>no</td>\n",
              "      <td>0.071598</td>\n",
              "      <td>high_risk</td>\n",
              "    </tr>\n",
              "    <tr>\n",
              "      <th>19999</th>\n",
              "      <td>641</td>\n",
              "      <td>Massachusetts</td>\n",
              "      <td>Female</td>\n",
              "      <td>36</td>\n",
              "      <td>1</td>\n",
              "      <td>0.00</td>\n",
              "      <td>2</td>\n",
              "      <td>1</td>\n",
              "      <td>0</td>\n",
              "      <td>102021.39</td>\n",
              "      <td>yes</td>\n",
              "      <td>0.817325</td>\n",
              "      <td>low_risk</td>\n",
              "    </tr>\n",
              "  </tbody>\n",
              "</table>\n",
              "<p>20000 rows × 13 columns</p>\n",
              "</div>"
            ],
            "text/plain": [
              "       creditscore      geography     gender  ...  churn  predicted_churn   decision\n",
              "0              545          Texas       Male  ...    yes         0.897202   low_risk\n",
              "1              497          Texas     Female  ...    yes         0.997441   low_risk\n",
              "2              509       New York     Female  ...    yes         0.920563   low_risk\n",
              "3              743         Hawaii  Nonbinary  ...    yes         0.779282   low_risk\n",
              "4              699        Florida     Female  ...    yes         0.825474   low_risk\n",
              "...            ...            ...        ...  ...    ...              ...        ...\n",
              "19995          686          Texas       Male  ...    yes         0.760645   low_risk\n",
              "19996          446  Massachusetts     Female  ...     no         0.216093  high_risk\n",
              "19997          794     California       Male  ...    yes         0.982021   low_risk\n",
              "19998          832     California       Male  ...     no         0.071598  high_risk\n",
              "19999          641  Massachusetts     Female  ...    yes         0.817325   low_risk\n",
              "\n",
              "[20000 rows x 13 columns]"
            ]
          },
          "metadata": {
            "tags": []
          },
          "execution_count": 8
        }
      ]
    },
    {
      "cell_type": "markdown",
      "metadata": {
        "id": "niKle55HCgIj"
      },
      "source": [
        "Fiddler uses this baseline dataset to keep track of important information about your data.\n",
        "  \n",
        "This includes **data types**, **data ranges**, and **unique values** for categorical variables.\n",
        "\n",
        "---\n",
        "\n",
        "You can construct a `DatasetInfo` object to be used as **a schema for keeping track of this information** by running the following code block."
      ]
    },
    {
      "cell_type": "code",
      "metadata": {
        "id": "TI_x9-T93G-v",
        "colab": {
          "base_uri": "https://localhost:8080/",
          "height": 561
        },
        "outputId": "d6c890c1-8c17-4c78-aed1-3a3440830122"
      },
      "source": [
        "dataset_info = fdl.DatasetInfo.from_dataframe(baseline_df, max_inferred_cardinality=100)\n",
        "dataset_info"
      ],
      "execution_count": null,
      "outputs": [
        {
          "output_type": "execute_result",
          "data": {
            "text/html": [
              "<div style=\"border: thin solid rgb(41, 57, 141); padding: 10px;\"><h3 style=\"text-align: center; margin: auto;\">DatasetInfo\n",
              "</h3><pre>display_name: \n",
              "files: []\n",
              "</pre><hr>Columns:<div>\n",
              "<style scoped>\n",
              "    .dataframe tbody tr th:only-of-type {\n",
              "        vertical-align: middle;\n",
              "    }\n",
              "\n",
              "    .dataframe tbody tr th {\n",
              "        vertical-align: top;\n",
              "    }\n",
              "\n",
              "    .dataframe thead th {\n",
              "        text-align: right;\n",
              "    }\n",
              "</style>\n",
              "<table border=\"1\" class=\"dataframe\">\n",
              "  <thead>\n",
              "    <tr style=\"text-align: right;\">\n",
              "      <th></th>\n",
              "      <th>column</th>\n",
              "      <th>dtype</th>\n",
              "      <th>count(possible_values)</th>\n",
              "      <th>is_nullable</th>\n",
              "      <th>value_range</th>\n",
              "    </tr>\n",
              "  </thead>\n",
              "  <tbody>\n",
              "    <tr>\n",
              "      <th>0</th>\n",
              "      <td>creditscore</td>\n",
              "      <td>INTEGER</td>\n",
              "      <td></td>\n",
              "      <td>False</td>\n",
              "      <td>350 - 850</td>\n",
              "    </tr>\n",
              "    <tr>\n",
              "      <th>1</th>\n",
              "      <td>geography</td>\n",
              "      <td>CATEGORY</td>\n",
              "      <td>6</td>\n",
              "      <td>False</td>\n",
              "      <td></td>\n",
              "    </tr>\n",
              "    <tr>\n",
              "      <th>2</th>\n",
              "      <td>gender</td>\n",
              "      <td>CATEGORY</td>\n",
              "      <td>3</td>\n",
              "      <td>False</td>\n",
              "      <td></td>\n",
              "    </tr>\n",
              "    <tr>\n",
              "      <th>3</th>\n",
              "      <td>age</td>\n",
              "      <td>INTEGER</td>\n",
              "      <td></td>\n",
              "      <td>False</td>\n",
              "      <td>18 - 92</td>\n",
              "    </tr>\n",
              "    <tr>\n",
              "      <th>4</th>\n",
              "      <td>tenure</td>\n",
              "      <td>INTEGER</td>\n",
              "      <td></td>\n",
              "      <td>False</td>\n",
              "      <td>0 - 10</td>\n",
              "    </tr>\n",
              "    <tr>\n",
              "      <th>5</th>\n",
              "      <td>balance</td>\n",
              "      <td>FLOAT</td>\n",
              "      <td></td>\n",
              "      <td>False</td>\n",
              "      <td>0.0 - 250,900.0</td>\n",
              "    </tr>\n",
              "    <tr>\n",
              "      <th>6</th>\n",
              "      <td>numofproducts</td>\n",
              "      <td>INTEGER</td>\n",
              "      <td></td>\n",
              "      <td>False</td>\n",
              "      <td>1 - 4</td>\n",
              "    </tr>\n",
              "    <tr>\n",
              "      <th>7</th>\n",
              "      <td>hascrcard</td>\n",
              "      <td>INTEGER</td>\n",
              "      <td></td>\n",
              "      <td>False</td>\n",
              "      <td>0 - 1</td>\n",
              "    </tr>\n",
              "    <tr>\n",
              "      <th>8</th>\n",
              "      <td>isactivemember</td>\n",
              "      <td>INTEGER</td>\n",
              "      <td></td>\n",
              "      <td>False</td>\n",
              "      <td>0 - 1</td>\n",
              "    </tr>\n",
              "    <tr>\n",
              "      <th>9</th>\n",
              "      <td>estimatedsalary</td>\n",
              "      <td>FLOAT</td>\n",
              "      <td></td>\n",
              "      <td>False</td>\n",
              "      <td>11.58 - 200,000.0</td>\n",
              "    </tr>\n",
              "    <tr>\n",
              "      <th>10</th>\n",
              "      <td>churn</td>\n",
              "      <td>CATEGORY</td>\n",
              "      <td>2</td>\n",
              "      <td>False</td>\n",
              "      <td></td>\n",
              "    </tr>\n",
              "    <tr>\n",
              "      <th>11</th>\n",
              "      <td>predicted_churn</td>\n",
              "      <td>FLOAT</td>\n",
              "      <td></td>\n",
              "      <td>False</td>\n",
              "      <td>0.0 - 1.0</td>\n",
              "    </tr>\n",
              "    <tr>\n",
              "      <th>12</th>\n",
              "      <td>decision</td>\n",
              "      <td>CATEGORY</td>\n",
              "      <td>2</td>\n",
              "      <td>False</td>\n",
              "      <td></td>\n",
              "    </tr>\n",
              "  </tbody>\n",
              "</table>\n",
              "</div></div>"
            ],
            "text/plain": [
              "DatasetInfo:\n",
              "  display_name: \n",
              "  files: []\n",
              "  columns:\n",
              "                 column     dtype  ... is_nullable            value_range\n",
              "    0       creditscore   INTEGER  ...       False        350 - 850      \n",
              "    1         geography  CATEGORY  ...       False                       \n",
              "    2            gender  CATEGORY  ...       False                       \n",
              "    3               age   INTEGER  ...       False         18 - 92       \n",
              "    4            tenure   INTEGER  ...       False          0 - 10       \n",
              "    5           balance     FLOAT  ...       False        0.0 - 250,900.0\n",
              "    6     numofproducts   INTEGER  ...       False          1 - 4        \n",
              "    7         hascrcard   INTEGER  ...       False          0 - 1        \n",
              "    8    isactivemember   INTEGER  ...       False          0 - 1        \n",
              "    9   estimatedsalary     FLOAT  ...       False      11.58 - 200,000.0\n",
              "    10            churn  CATEGORY  ...       False                       \n",
              "    11  predicted_churn     FLOAT  ...       False        0.0 - 1.0      \n",
              "    12         decision  CATEGORY  ...       False                       \n",
              "\n",
              "    [13 rows x 5 columns]"
            ]
          },
          "metadata": {
            "tags": []
          },
          "execution_count": 9
        }
      ]
    },
    {
      "cell_type": "markdown",
      "metadata": {
        "id": "32YjZcpTDwKU"
      },
      "source": [
        "Then use the client's `upload_dataset` function to send this information to Fiddler!\n",
        "  \n",
        "*Just include:*\n",
        "1. A unique dataset ID\n",
        "2. The baseline dataset as a pandas DataFrame\n",
        "3. The `DatasetInfo` object you just created"
      ]
    },
    {
      "cell_type": "code",
      "metadata": {
        "id": "Nk0Bpus92oJK",
        "colab": {
          "base_uri": "https://localhost:8080/"
        },
        "outputId": "e66a2d6a-bb68-4ef5-c78d-6567b642e2a7"
      },
      "source": [
        "DATASET_ID = 'churn_data'\n",
        "\n",
        "client.upload_dataset(\n",
        "    project_id=PROJECT_ID,\n",
        "    dataset_id=DATASET_ID,\n",
        "    dataset={\n",
        "        'baseline': baseline_df\n",
        "    },\n",
        "    info=dataset_info\n",
        ")"
      ],
      "execution_count": null,
      "outputs": [
        {
          "output_type": "stream",
          "text": [
            "Uploading the dataset churn_data ...\n"
          ],
          "name": "stdout"
        },
        {
          "output_type": "execute_result",
          "data": {
            "text/plain": [
              "{'col_count': 13,\n",
              " 'log': ['Importing dataset churn_data',\n",
              "  'Creating table for churn_data',\n",
              "  'Importing data file: baseline.csv'],\n",
              " 'row_count': 20000}"
            ]
          },
          "metadata": {
            "tags": []
          },
          "execution_count": 10
        }
      ]
    },
    {
      "cell_type": "markdown",
      "metadata": {
        "id": "D9Phfp9Yu7bA"
      },
      "source": [
        "If you click on your project, you should now be able to see the newly created dataset on the UI.\n",
        "\n",
        "<table>\n",
        "    <tr>\n",
        "        <td>\n",
        "            <img src=\"https://fiddler-nb-assets.s3.us-west-1.amazonaws.com/qs_new_dataset.png\" />\n",
        "        </td>\n",
        "    </tr>\n",
        "</table>"
      ]
    },
    {
      "cell_type": "markdown",
      "metadata": {
        "id": "IK3sL73_4FxO"
      },
      "source": [
        "## 3. Register your model\n",
        "\n",
        "Now it's time to register your model with Fiddler.\n",
        "\n",
        "\n",
        "---\n",
        "\n",
        "\n",
        "You'll need to specify some more **information about how your model operates**.\n",
        "  \n",
        "*Just include:*\n",
        "1. The **task** your model is performing (regression, binary classification, etc.)\n",
        "2. The **target** (ground truth) column\n",
        "3. The **output** (prediction) column\n",
        "4. The **feature** columns\n",
        "5. Any **metadata** columns\n",
        "6. Any **decision** columns (these measures the direct business decisions made as result of the model's prediction)\n"
      ]
    },
    {
      "cell_type": "code",
      "metadata": {
        "id": "kpKz2dDK4ZiV",
        "colab": {
          "base_uri": "https://localhost:8080/",
          "height": 827
        },
        "outputId": "ea8ff2ef-f172-49ee-f04f-0e5bf79d674b"
      },
      "source": [
        "# Specify task\n",
        "model_task = 'binary'\n",
        "\n",
        "if model_task == 'regression':\n",
        "    model_task = fdl.ModelTask.REGRESSION\n",
        "    \n",
        "elif model_task == 'binary':\n",
        "    model_task = fdl.ModelTask.BINARY_CLASSIFICATION\n",
        "\n",
        "elif model_task == 'multiclass':\n",
        "    model_task = fdl.ModelTask.MULTICLASS_CLASSIFICATION\n",
        "\n",
        "    \n",
        "# Specify column types\n",
        "target = 'churn'\n",
        "outputs = ['predicted_churn']\n",
        "decision_cols = ['decision']\n",
        "features = ['geography', 'gender', 'age', 'tenure', 'balance', 'numofproducts', 'hascrcard', 'isactivemember', 'estimatedsalary']\n",
        "    \n",
        "# Generate ModelInfo\n",
        "model_info = fdl.ModelInfo.from_dataset_info(\n",
        "    dataset_info=dataset_info,\n",
        "    dataset_id=DATASET_ID,\n",
        "    model_task=model_task,\n",
        "    target=target,\n",
        "    outputs=outputs,\n",
        "    decision_cols=decision_cols,\n",
        "    features=features\n",
        ")\n",
        "model_info"
      ],
      "execution_count": null,
      "outputs": [
        {
          "output_type": "execute_result",
          "data": {
            "text/html": [
              "<div style=\"border: thin solid rgb(41, 57, 141); padding: 10px;\"><h3 style=\"text-align: center; margin: auto;\">ModelInfo\n",
              "</h3><pre>  display_name:  model\n",
              "  description: None\n",
              "  input_type: ModelInputType.TABULAR\n",
              "  model_task: ModelTask.BINARY_CLASSIFICATION\n",
              "  target_class_order: ['no', 'yes']\n",
              "  preferred_explanation: None\n",
              "  custom_explanation_names: []\n",
              "  misc: {}</pre><hr>targets:<div>\n",
              "<style scoped>\n",
              "    .dataframe tbody tr th:only-of-type {\n",
              "        vertical-align: middle;\n",
              "    }\n",
              "\n",
              "    .dataframe tbody tr th {\n",
              "        vertical-align: top;\n",
              "    }\n",
              "\n",
              "    .dataframe thead th {\n",
              "        text-align: right;\n",
              "    }\n",
              "</style>\n",
              "<table border=\"1\" class=\"dataframe\">\n",
              "  <thead>\n",
              "    <tr style=\"text-align: right;\">\n",
              "      <th></th>\n",
              "      <th>column</th>\n",
              "      <th>dtype</th>\n",
              "      <th>count(possible_values)</th>\n",
              "      <th>is_nullable</th>\n",
              "      <th>value_range</th>\n",
              "    </tr>\n",
              "  </thead>\n",
              "  <tbody>\n",
              "    <tr>\n",
              "      <th>0</th>\n",
              "      <td>churn</td>\n",
              "      <td>CATEGORY</td>\n",
              "      <td>2</td>\n",
              "      <td>False</td>\n",
              "      <td></td>\n",
              "    </tr>\n",
              "  </tbody>\n",
              "</table>\n",
              "</div><hr>inputs:<div>\n",
              "<style scoped>\n",
              "    .dataframe tbody tr th:only-of-type {\n",
              "        vertical-align: middle;\n",
              "    }\n",
              "\n",
              "    .dataframe tbody tr th {\n",
              "        vertical-align: top;\n",
              "    }\n",
              "\n",
              "    .dataframe thead th {\n",
              "        text-align: right;\n",
              "    }\n",
              "</style>\n",
              "<table border=\"1\" class=\"dataframe\">\n",
              "  <thead>\n",
              "    <tr style=\"text-align: right;\">\n",
              "      <th></th>\n",
              "      <th>column</th>\n",
              "      <th>dtype</th>\n",
              "      <th>count(possible_values)</th>\n",
              "      <th>is_nullable</th>\n",
              "      <th>value_range</th>\n",
              "    </tr>\n",
              "  </thead>\n",
              "  <tbody>\n",
              "    <tr>\n",
              "      <th>0</th>\n",
              "      <td>geography</td>\n",
              "      <td>CATEGORY</td>\n",
              "      <td>6</td>\n",
              "      <td>False</td>\n",
              "      <td></td>\n",
              "    </tr>\n",
              "    <tr>\n",
              "      <th>1</th>\n",
              "      <td>gender</td>\n",
              "      <td>CATEGORY</td>\n",
              "      <td>3</td>\n",
              "      <td>False</td>\n",
              "      <td></td>\n",
              "    </tr>\n",
              "    <tr>\n",
              "      <th>2</th>\n",
              "      <td>age</td>\n",
              "      <td>INTEGER</td>\n",
              "      <td></td>\n",
              "      <td>False</td>\n",
              "      <td>18 - 92</td>\n",
              "    </tr>\n",
              "    <tr>\n",
              "      <th>3</th>\n",
              "      <td>tenure</td>\n",
              "      <td>INTEGER</td>\n",
              "      <td></td>\n",
              "      <td>False</td>\n",
              "      <td>0 - 10</td>\n",
              "    </tr>\n",
              "    <tr>\n",
              "      <th>4</th>\n",
              "      <td>balance</td>\n",
              "      <td>FLOAT</td>\n",
              "      <td></td>\n",
              "      <td>False</td>\n",
              "      <td>0.0 - 250,900.0</td>\n",
              "    </tr>\n",
              "    <tr>\n",
              "      <th>5</th>\n",
              "      <td>numofproducts</td>\n",
              "      <td>INTEGER</td>\n",
              "      <td></td>\n",
              "      <td>False</td>\n",
              "      <td>1 - 4</td>\n",
              "    </tr>\n",
              "    <tr>\n",
              "      <th>6</th>\n",
              "      <td>hascrcard</td>\n",
              "      <td>INTEGER</td>\n",
              "      <td></td>\n",
              "      <td>False</td>\n",
              "      <td>0 - 1</td>\n",
              "    </tr>\n",
              "    <tr>\n",
              "      <th>7</th>\n",
              "      <td>isactivemember</td>\n",
              "      <td>INTEGER</td>\n",
              "      <td></td>\n",
              "      <td>False</td>\n",
              "      <td>0 - 1</td>\n",
              "    </tr>\n",
              "    <tr>\n",
              "      <th>8</th>\n",
              "      <td>estimatedsalary</td>\n",
              "      <td>FLOAT</td>\n",
              "      <td></td>\n",
              "      <td>False</td>\n",
              "      <td>11.58 - 200,000.0</td>\n",
              "    </tr>\n",
              "  </tbody>\n",
              "</table>\n",
              "</div><hr>outputs:<div>\n",
              "<style scoped>\n",
              "    .dataframe tbody tr th:only-of-type {\n",
              "        vertical-align: middle;\n",
              "    }\n",
              "\n",
              "    .dataframe tbody tr th {\n",
              "        vertical-align: top;\n",
              "    }\n",
              "\n",
              "    .dataframe thead th {\n",
              "        text-align: right;\n",
              "    }\n",
              "</style>\n",
              "<table border=\"1\" class=\"dataframe\">\n",
              "  <thead>\n",
              "    <tr style=\"text-align: right;\">\n",
              "      <th></th>\n",
              "      <th>column</th>\n",
              "      <th>dtype</th>\n",
              "      <th>count(possible_values)</th>\n",
              "      <th>is_nullable</th>\n",
              "      <th>value_range</th>\n",
              "    </tr>\n",
              "  </thead>\n",
              "  <tbody>\n",
              "    <tr>\n",
              "      <th>0</th>\n",
              "      <td>predicted_churn</td>\n",
              "      <td>FLOAT</td>\n",
              "      <td></td>\n",
              "      <td>False</td>\n",
              "      <td>0.0 - 1.0</td>\n",
              "    </tr>\n",
              "  </tbody>\n",
              "</table>\n",
              "</div><hr>decisions:<div>\n",
              "<style scoped>\n",
              "    .dataframe tbody tr th:only-of-type {\n",
              "        vertical-align: middle;\n",
              "    }\n",
              "\n",
              "    .dataframe tbody tr th {\n",
              "        vertical-align: top;\n",
              "    }\n",
              "\n",
              "    .dataframe thead th {\n",
              "        text-align: right;\n",
              "    }\n",
              "</style>\n",
              "<table border=\"1\" class=\"dataframe\">\n",
              "  <thead>\n",
              "    <tr style=\"text-align: right;\">\n",
              "      <th></th>\n",
              "      <th>column</th>\n",
              "      <th>dtype</th>\n",
              "      <th>count(possible_values)</th>\n",
              "      <th>is_nullable</th>\n",
              "      <th>value_range</th>\n",
              "    </tr>\n",
              "  </thead>\n",
              "  <tbody>\n",
              "    <tr>\n",
              "      <th>0</th>\n",
              "      <td>decision</td>\n",
              "      <td>CATEGORY</td>\n",
              "      <td>2</td>\n",
              "      <td>False</td>\n",
              "      <td></td>\n",
              "    </tr>\n",
              "  </tbody>\n",
              "</table>\n",
              "</div></div>"
            ],
            "text/plain": [
              "ModelInfo:\n",
              "  display_name:  model\n",
              "  description: None\n",
              "  input_type: ModelInputType.TABULAR\n",
              "  model_task: ModelTask.BINARY_CLASSIFICATION\n",
              "  target_class_order: ['no', 'yes']\n",
              "  preferred_explanation: None\n",
              "  custom_explanation_names: []\n",
              "  inputs:\n",
              "                column     dtype  ... is_nullable            value_range\n",
              "    0        geography  CATEGORY  ...       False                       \n",
              "    1           gender  CATEGORY  ...       False                       \n",
              "    2              age   INTEGER  ...       False         18 - 92       \n",
              "    3           tenure   INTEGER  ...       False          0 - 10       \n",
              "    4          balance     FLOAT  ...       False        0.0 - 250,900.0\n",
              "    5    numofproducts   INTEGER  ...       False          1 - 4        \n",
              "    6        hascrcard   INTEGER  ...       False          0 - 1        \n",
              "    7   isactivemember   INTEGER  ...       False          0 - 1        \n",
              "    8  estimatedsalary     FLOAT  ...       False      11.58 - 200,000.0\n",
              "\n",
              "    [9 rows x 5 columns]\n",
              "  outputs:\n",
              "                column  dtype count(possible_values) is_nullable value_range\n",
              "    0  predicted_churn  FLOAT                              False   0.0 - 1.0\n",
              "\n",
              "  decisions:\n",
              "         column     dtype  count(possible_values) is_nullable value_range\n",
              "    0  decision  CATEGORY                       2       False            \n",
              "  targets:\n",
              "      column     dtype  count(possible_values) is_nullable value_range\n",
              "    0  churn  CATEGORY                       2       False              misc:\n",
              "    {}"
            ]
          },
          "metadata": {
            "tags": []
          },
          "execution_count": 11
        }
      ]
    },
    {
      "cell_type": "markdown",
      "metadata": {
        "id": "azE_UU6HE6vW"
      },
      "source": [
        "This information alows Fiddler to build a **surrogate model** on the backend that can provide more insight into your model's performance.\n",
        "  \n",
        "*For more information on surrogate models, [click here](http://internal.docs.fiddler.ai.s3-website-us-west-1.amazonaws.com/pages/user-guide/data-science-concepts/explainability/surrogate-models/).*\n",
        "\n",
        "\n",
        "---\n",
        "\n",
        "Almost done! Now just specify a unique model ID and use the client's `register_model` function to send this information to Fiddler."
      ]
    },
    {
      "cell_type": "code",
      "metadata": {
        "id": "HMDG9vei24pw",
        "colab": {
          "base_uri": "https://localhost:8080/",
          "height": 290
        },
        "outputId": "a8b3debb-ce00-4485-f743-400fb28abc74"
      },
      "source": [
        "MODEL_ID = 'churn_classifier'\n",
        "\n",
        "client.register_model(\n",
        "    project_id=PROJECT_ID,\n",
        "    dataset_id=DATASET_ID,\n",
        "    model_id=MODEL_ID,\n",
        "    model_info=model_info\n",
        ")"
      ],
      "execution_count": null,
      "outputs": [
        {
          "output_type": "stream",
          "text": [
            "Loading dataset info ...\n",
            "Validating model info ...\n",
            "Generating a model using the baseline dataset ...\n",
            "Running tests ...\n",
            "All tests passed ..\n",
            "Model output provided in the baseline dataset\n",
            "Beginning to precache for dataset churn_data with model churn_classifier...\n",
            "\n",
            "--- Beginning PDP Caching ---\n",
            " |\u001b[94m██████████████████████████████████████████████████\u001b[0m| 100.0% 9/9 Global PDPs Cached--- Finished PDP Caching ---\n",
            "\n",
            "--- Beginning Impact/Importance Caching ---\n",
            " |\u001b[94m██████████████████████████████████████████████████\u001b[0m| 100.0% Global Features Cached--- Finished Impact/Importance Caching ---\n",
            "\n",
            "Successfully precached for dataset churn_data with model churn_classifier\n"
          ],
          "name": "stdout"
        },
        {
          "output_type": "execute_result",
          "data": {
            "application/vnd.google.colaboratory.intrinsic+json": {
              "type": "string"
            },
            "text/plain": [
              "'Model successfully registered on Fiddler. \\n Visit https://app.fiddler.ai/projects/quickstart_example '"
            ]
          },
          "metadata": {
            "tags": []
          },
          "execution_count": 13
        }
      ]
    },
    {
      "cell_type": "markdown",
      "metadata": {
        "id": "0GmqFXTYwRg6"
      },
      "source": [
        "On the project page, you should now be able to see the newly created model.\n",
        "\n",
        "<table>\n",
        "    <tr>\n",
        "        <td>\n",
        "            <img src=\"https://fiddler-nb-assets.s3.us-west-1.amazonaws.com/qs_new_model.png\" />\n",
        "        </td>\n",
        "    </tr>\n",
        "</table>"
      ]
    },
    {
      "cell_type": "markdown",
      "metadata": {
        "id": "GZNJ5NNm5vnA"
      },
      "source": [
        "## 4. Publish production events\n",
        "\n",
        "Your model is registered and now it's time to start publishing some production data!  \n",
        "Fiddler will **monitor this data and compare it to your baseline to generate powerful insights into how your model is behaving**.\n",
        "\n",
        "\n",
        "---\n",
        "\n",
        "\n",
        "Each record sent to Fiddler is called **an event**.  \n",
        "An event is just **a dictionary that maps column names to column values**.\n",
        "  \n",
        "Let's load in some sample events from a CSV file."
      ]
    },
    {
      "cell_type": "code",
      "metadata": {
        "colab": {
          "base_uri": "https://localhost:8080/",
          "height": 439
        },
        "id": "1dmA8PP7GTdJ",
        "outputId": "fdce99ee-8030-43b8-c086-994384b4dc72"
      },
      "source": [
        "PATH_TO_EVENTS_CSV = 'https://raw.githubusercontent.com/fiddler-labs/fiddler-samples/new-quickstart/content_root/tutorial/quickstart/churn_events.csv'\n",
        "\n",
        "production_df = pd.read_csv(PATH_TO_EVENTS_CSV)\n",
        "production_df"
      ],
      "execution_count": null,
      "outputs": [
        {
          "output_type": "execute_result",
          "data": {
            "text/html": [
              "<div>\n",
              "<style scoped>\n",
              "    .dataframe tbody tr th:only-of-type {\n",
              "        vertical-align: middle;\n",
              "    }\n",
              "\n",
              "    .dataframe tbody tr th {\n",
              "        vertical-align: top;\n",
              "    }\n",
              "\n",
              "    .dataframe thead th {\n",
              "        text-align: right;\n",
              "    }\n",
              "</style>\n",
              "<table border=\"1\" class=\"dataframe\">\n",
              "  <thead>\n",
              "    <tr style=\"text-align: right;\">\n",
              "      <th></th>\n",
              "      <th>creditscore</th>\n",
              "      <th>geography</th>\n",
              "      <th>gender</th>\n",
              "      <th>age</th>\n",
              "      <th>tenure</th>\n",
              "      <th>balance</th>\n",
              "      <th>numofproducts</th>\n",
              "      <th>hascrcard</th>\n",
              "      <th>isactivemember</th>\n",
              "      <th>estimatedsalary</th>\n",
              "      <th>churn</th>\n",
              "      <th>predicted_churn</th>\n",
              "      <th>decision</th>\n",
              "      <th>timestamp</th>\n",
              "    </tr>\n",
              "  </thead>\n",
              "  <tbody>\n",
              "    <tr>\n",
              "      <th>0</th>\n",
              "      <td>559</td>\n",
              "      <td>California</td>\n",
              "      <td>Male</td>\n",
              "      <td>52</td>\n",
              "      <td>2</td>\n",
              "      <td>0.00</td>\n",
              "      <td>1</td>\n",
              "      <td>1</td>\n",
              "      <td>0</td>\n",
              "      <td>129013.59</td>\n",
              "      <td>no</td>\n",
              "      <td>0.007896</td>\n",
              "      <td>low_risk</td>\n",
              "      <td>1628264512281</td>\n",
              "    </tr>\n",
              "    <tr>\n",
              "      <th>1</th>\n",
              "      <td>482</td>\n",
              "      <td>California</td>\n",
              "      <td>Male</td>\n",
              "      <td>55</td>\n",
              "      <td>5</td>\n",
              "      <td>97318.25</td>\n",
              "      <td>1</td>\n",
              "      <td>0</td>\n",
              "      <td>1</td>\n",
              "      <td>78416.14</td>\n",
              "      <td>yes</td>\n",
              "      <td>0.885725</td>\n",
              "      <td>high_risk</td>\n",
              "      <td>1628266931481</td>\n",
              "    </tr>\n",
              "    <tr>\n",
              "      <th>2</th>\n",
              "      <td>651</td>\n",
              "      <td>Florida</td>\n",
              "      <td>Female</td>\n",
              "      <td>46</td>\n",
              "      <td>4</td>\n",
              "      <td>89743.05</td>\n",
              "      <td>1</td>\n",
              "      <td>1</td>\n",
              "      <td>0</td>\n",
              "      <td>156425.57</td>\n",
              "      <td>no</td>\n",
              "      <td>0.031816</td>\n",
              "      <td>low_risk</td>\n",
              "      <td>1628269350681</td>\n",
              "    </tr>\n",
              "    <tr>\n",
              "      <th>3</th>\n",
              "      <td>611</td>\n",
              "      <td>Hawaii</td>\n",
              "      <td>Male</td>\n",
              "      <td>38</td>\n",
              "      <td>7</td>\n",
              "      <td>0.00</td>\n",
              "      <td>1</td>\n",
              "      <td>1</td>\n",
              "      <td>1</td>\n",
              "      <td>63202.00</td>\n",
              "      <td>yes</td>\n",
              "      <td>0.930061</td>\n",
              "      <td>high_risk</td>\n",
              "      <td>1628271769881</td>\n",
              "    </tr>\n",
              "    <tr>\n",
              "      <th>4</th>\n",
              "      <td>696</td>\n",
              "      <td>California</td>\n",
              "      <td>Female</td>\n",
              "      <td>33</td>\n",
              "      <td>4</td>\n",
              "      <td>0.00</td>\n",
              "      <td>2</td>\n",
              "      <td>1</td>\n",
              "      <td>1</td>\n",
              "      <td>73371.65</td>\n",
              "      <td>yes</td>\n",
              "      <td>0.999726</td>\n",
              "      <td>high_risk</td>\n",
              "      <td>1628274189081</td>\n",
              "    </tr>\n",
              "    <tr>\n",
              "      <th>...</th>\n",
              "      <td>...</td>\n",
              "      <td>...</td>\n",
              "      <td>...</td>\n",
              "      <td>...</td>\n",
              "      <td>...</td>\n",
              "      <td>...</td>\n",
              "      <td>...</td>\n",
              "      <td>...</td>\n",
              "      <td>...</td>\n",
              "      <td>...</td>\n",
              "      <td>...</td>\n",
              "      <td>...</td>\n",
              "      <td>...</td>\n",
              "      <td>...</td>\n",
              "    </tr>\n",
              "    <tr>\n",
              "      <th>245</th>\n",
              "      <td>781</td>\n",
              "      <td>Hawaii</td>\n",
              "      <td>Female</td>\n",
              "      <td>48</td>\n",
              "      <td>0</td>\n",
              "      <td>57098.96</td>\n",
              "      <td>6</td>\n",
              "      <td>1</td>\n",
              "      <td>0</td>\n",
              "      <td>85644.06</td>\n",
              "      <td>no</td>\n",
              "      <td>0.000916</td>\n",
              "      <td>low_risk</td>\n",
              "      <td>1628857216281</td>\n",
              "    </tr>\n",
              "    <tr>\n",
              "      <th>246</th>\n",
              "      <td>797</td>\n",
              "      <td>Hawaii</td>\n",
              "      <td>Female</td>\n",
              "      <td>55</td>\n",
              "      <td>10</td>\n",
              "      <td>0.00</td>\n",
              "      <td>9</td>\n",
              "      <td>1</td>\n",
              "      <td>1</td>\n",
              "      <td>49418.87</td>\n",
              "      <td>no</td>\n",
              "      <td>0.043374</td>\n",
              "      <td>low_risk</td>\n",
              "      <td>1628859635481</td>\n",
              "    </tr>\n",
              "    <tr>\n",
              "      <th>247</th>\n",
              "      <td>554</td>\n",
              "      <td>Hawaii</td>\n",
              "      <td>Male</td>\n",
              "      <td>31</td>\n",
              "      <td>1</td>\n",
              "      <td>0.00</td>\n",
              "      <td>7</td>\n",
              "      <td>0</td>\n",
              "      <td>1</td>\n",
              "      <td>192660.55</td>\n",
              "      <td>yes</td>\n",
              "      <td>0.624521</td>\n",
              "      <td>high_risk</td>\n",
              "      <td>1628862054681</td>\n",
              "    </tr>\n",
              "    <tr>\n",
              "      <th>248</th>\n",
              "      <td>701</td>\n",
              "      <td>Hawaii</td>\n",
              "      <td>Nonbinary</td>\n",
              "      <td>37</td>\n",
              "      <td>1</td>\n",
              "      <td>0.00</td>\n",
              "      <td>7</td>\n",
              "      <td>1</td>\n",
              "      <td>0</td>\n",
              "      <td>163457.55</td>\n",
              "      <td>yes</td>\n",
              "      <td>0.101539</td>\n",
              "      <td>low_risk</td>\n",
              "      <td>1628864473881</td>\n",
              "    </tr>\n",
              "    <tr>\n",
              "      <th>249</th>\n",
              "      <td>769</td>\n",
              "      <td>California</td>\n",
              "      <td>Female</td>\n",
              "      <td>27</td>\n",
              "      <td>2</td>\n",
              "      <td>0.00</td>\n",
              "      <td>1</td>\n",
              "      <td>1</td>\n",
              "      <td>1</td>\n",
              "      <td>57876.05</td>\n",
              "      <td>yes</td>\n",
              "      <td>0.994945</td>\n",
              "      <td>high_risk</td>\n",
              "      <td>1628866893081</td>\n",
              "    </tr>\n",
              "  </tbody>\n",
              "</table>\n",
              "<p>250 rows × 14 columns</p>\n",
              "</div>"
            ],
            "text/plain": [
              "     creditscore   geography  ...   decision      timestamp\n",
              "0            559  California  ...   low_risk  1628264512281\n",
              "1            482  California  ...  high_risk  1628266931481\n",
              "2            651     Florida  ...   low_risk  1628269350681\n",
              "3            611      Hawaii  ...  high_risk  1628271769881\n",
              "4            696  California  ...  high_risk  1628274189081\n",
              "..           ...         ...  ...        ...            ...\n",
              "245          781      Hawaii  ...   low_risk  1628857216281\n",
              "246          797      Hawaii  ...   low_risk  1628859635481\n",
              "247          554      Hawaii  ...  high_risk  1628862054681\n",
              "248          701      Hawaii  ...   low_risk  1628864473881\n",
              "249          769  California  ...  high_risk  1628866893081\n",
              "\n",
              "[250 rows x 14 columns]"
            ]
          },
          "metadata": {
            "tags": []
          },
          "execution_count": 14
        }
      ]
    },
    {
      "cell_type": "markdown",
      "metadata": {
        "id": "FKKjsNrDGgEH"
      },
      "source": [
        "And convert the pandas DataFrame into a dictionary."
      ]
    },
    {
      "cell_type": "code",
      "metadata": {
        "colab": {
          "base_uri": "https://localhost:8080/"
        },
        "id": "gBYWjOlWGc0Q",
        "outputId": "673ef74c-1b1d-4f76-c624-f4d8360f7eda"
      },
      "source": [
        "production_events = production_df.to_dict(orient='records')\n",
        "production_events[0]"
      ],
      "execution_count": null,
      "outputs": [
        {
          "output_type": "execute_result",
          "data": {
            "text/plain": [
              "{'age': 52,\n",
              " 'balance': 0.0,\n",
              " 'churn': 'no',\n",
              " 'creditscore': 559,\n",
              " 'decision': 'low_risk',\n",
              " 'estimatedsalary': 129013.59,\n",
              " 'gender': 'Male',\n",
              " 'geography': 'California',\n",
              " 'hascrcard': 1,\n",
              " 'isactivemember': 0,\n",
              " 'numofproducts': 1,\n",
              " 'predicted_churn': 0.00789562591605295,\n",
              " 'tenure': 2,\n",
              " 'timestamp': 1628264512281}"
            ]
          },
          "metadata": {
            "tags": []
          },
          "execution_count": 15
        }
      ]
    },
    {
      "cell_type": "markdown",
      "metadata": {
        "id": "rw052Qg7G1ft"
      },
      "source": [
        "You can use the client's `publish_event` function to start pumping data into Fiddler!\n",
        "  \n",
        "*Just include:*\n",
        "1. The event dictionary\n",
        "2. A timestamp for when the event occurred"
      ]
    },
    {
      "cell_type": "code",
      "metadata": {
        "id": "TI-gqrMmhEOe",
        "colab": {
          "base_uri": "https://localhost:8080/"
        },
        "outputId": "1eba1b17-480f-429d-e5c9-916d4cac7704"
      },
      "source": [
        "from tqdm import tqdm\n",
        "\n",
        "for event in tqdm(production_events):\n",
        "\n",
        "    client.publish_event(\n",
        "        project_id=PROJECT_ID,\n",
        "        model_id=MODEL_ID,\n",
        "        event=event,\n",
        "        event_timestamp=event['timestamp']\n",
        "    )"
      ],
      "execution_count": null,
      "outputs": [
        {
          "output_type": "stream",
          "text": [
            "100%|██████████| 250/250 [00:30<00:00,  8.17it/s]\n"
          ],
          "name": "stderr"
        }
      ]
    },
    {
      "cell_type": "markdown",
      "metadata": {
        "id": "vR6IR8YNHgG1"
      },
      "source": [
        "## 5. Get insights\n",
        "\n",
        "**You're all done!**\n",
        "  \n",
        "Now just head to your Fiddler URL and start getting enhanced observability into your model's performance.\n",
        "\n",
        "Run the following code block to get your URL."
      ]
    },
    {
      "cell_type": "code",
      "metadata": {
        "colab": {
          "base_uri": "https://localhost:8080/"
        },
        "id": "VPjFE5USNsrF",
        "outputId": "ac31867a-643d-47cc-ee13-9a1e2a1e7c84"
      },
      "source": [
        "print('/'.join([URL, 'projects', PROJECT_ID, 'models', MODEL_ID, 'monitor']))"
      ],
      "execution_count": null,
      "outputs": [
        {
          "output_type": "stream",
          "text": [
            "https://app.fiddler.ai/projects/quickstart_example/models/churn_classifier/monitor\n"
          ],
          "name": "stdout"
        }
      ]
    },
    {
      "cell_type": "markdown",
      "metadata": {
        "id": "-DZMVHAEBzC_"
      },
      "source": [
        "*Please allow 3-5 minutes for monitoring data to populate the charts.*\n",
        "  \n",
        "The following screen will be available to you upon completion.\n",
        "<table>\n",
        "    <tr>\n",
        "        <td>\n",
        "            <img src=\"https://fiddler-nb-assets.s3.us-west-1.amazonaws.com/qs_monitoring.png\" />\n",
        "        </td>\n",
        "    </tr>\n",
        "</table>"
      ]
    },
    {
      "cell_type": "markdown",
      "metadata": {
        "id": "Jdkj1eHgOTAO"
      },
      "source": [
        "\n",
        "\n",
        "---\n",
        "\n",
        "\n",
        "**Questions?**  \n",
        "  \n",
        "Check out [our docs](https://docs.fiddler.ai/) for a more detailed explanation of what Fiddler has to offer.\n",
        "\n",
        "If you're still looking for answers, fill out a ticket on [our support page](https://fiddlerlabs.zendesk.com/) and we'll get back to you shortly."
      ]
    }
  ]
}