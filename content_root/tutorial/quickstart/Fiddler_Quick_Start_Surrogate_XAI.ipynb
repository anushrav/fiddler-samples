{
 "cells": [
  {
   "cell_type": "markdown",
   "metadata": {
    "id": "KxxiKou3wZTw"
   },
   "source": [
    "# Fiddler Quick Start Guide for Explainability (XAI) with Surrogate Models\n",
    "\n",
    "Fiddler is not only a powerful observability tool for monitoring the health of your ML models in production but also an explainability tool to peak into your black box models. With the ability to **point explain** and **global explain** your model, Fiddler provides powerful visualizations that can explain your model's behavior. \n",
    "\n",
    "\n",
    "---\n",
    "\n",
    "\n",
    "You can start exploring Fiddler's XAI capabilities by following these five quick steps:\n",
    "\n",
    "1. Connect to Fiddler\n",
    "2. Upload a baseline dataset\n",
    "3. Add your model details to Fiddler\n",
    "4. Either upload a model artifact or use Fiddler generated surrogate model\n",
    "5. Get insights"
   ]
  },
  {
   "cell_type": "markdown",
   "metadata": {
    "id": "wUZi_5s7wsGA"
   },
   "source": [
    "## 0. Imports"
   ]
  },
  {
   "cell_type": "code",
   "execution_count": 21,
   "metadata": {
    "id": "Pg-BdRJ4w3LM"
   },
   "outputs": [
    {
     "name": "stdout",
     "output_type": "stream",
     "text": [
      "Running client version 1.5.0\n"
     ]
    }
   ],
   "source": [
    "!pip install -q fiddler-client;\n",
    "\n",
    "import numpy as np\n",
    "import pandas as pd\n",
    "import fiddler as fdl\n",
    "import time as time\n",
    "\n",
    "print(f\"Running client version {fdl.__version__}\")"
   ]
  },
  {
   "cell_type": "markdown",
   "metadata": {
    "id": "hcP0yWfV1GoZ"
   },
   "source": [
    "## 1. Connect to Fiddler\n",
    "\n",
    "Before you can register your model with Fiddler, you'll need to connect using our API client.\n",
    "\n",
    "\n",
    "---\n",
    "\n",
    "\n",
    "**We need a few pieces of information to get started.**\n",
    "1. The URL you're using to connect to Fiddler"
   ]
  },
  {
   "cell_type": "code",
   "execution_count": 2,
   "metadata": {
    "id": "05hPBZHr1eBv"
   },
   "outputs": [],
   "source": [
    "URL = '' # Make sure to include the full URL (including https://)."
   ]
  },
  {
   "cell_type": "code",
   "execution_count": 3,
   "metadata": {
    "id": "CWErNsofAz6B"
   },
   "outputs": [],
   "source": [
    "ORG_ID = ''\n",
    "AUTH_TOKEN = ''"
   ]
  },
  {
   "cell_type": "markdown",
   "metadata": {
    "id": "c2B7cgPa2Ajo"
   },
   "source": [
    "2. Your organization ID\n",
    "3. Your authorization token\n",
    "\n",
    "Both of these can be found by clicking the URL you entered and navigating to the **Settings** page.\n",
    "\n",
    "<table>\n",
    "    <tr>\n",
    "        <td><img src=\"https://fiddler-nb-assets.s3.us-west-1.amazonaws.com/qs_settings_page_numbered.png\" /></td>\n",
    "        <td><img src=\"https://fiddler-nb-assets.s3.us-west-1.amazonaws.com/qs_org_id_numbered.png\" /></td>\n",
    "    </tr>\n",
    "    <tr>\n",
    "        <td><img src=\"https://fiddler-nb-assets.s3.us-west-1.amazonaws.com/qs_new_key_numbered.png\" /></td>\n",
    "        <td><img src=\"https://fiddler-nb-assets.s3.us-west-1.amazonaws.com/qs_auth_token_numbered.png\" /></td>\n",
    "    </tr>\n",
    "</table>"
   ]
  },
  {
   "cell_type": "markdown",
   "metadata": {
    "id": "4EttApX9BBIn"
   },
   "source": [
    "Now just run the following code block to connect to the Fiddler API!"
   ]
  },
  {
   "cell_type": "code",
   "execution_count": 4,
   "metadata": {
    "id": "g6ONUHliBAsH"
   },
   "outputs": [],
   "source": [
    "client = fdl.FiddlerApi(\n",
    "    url=URL,\n",
    "    org_id=ORG_ID,\n",
    "    auth_token=AUTH_TOKEN\n",
    ")"
   ]
  },
  {
   "cell_type": "markdown",
   "metadata": {
    "id": "QpUHeE3dBTHD"
   },
   "source": [
    "Once you connect, you can create a new project by specifying a unique project ID in the client's `create_project` function."
   ]
  },
  {
   "cell_type": "code",
   "execution_count": 13,
   "metadata": {
    "id": "vh46Mp1MBSMj"
   },
   "outputs": [
    {
     "data": {
      "text/plain": [
       "{'project_name': 'quickstart_xai100'}"
      ]
     },
     "execution_count": 13,
     "metadata": {},
     "output_type": "execute_result"
    }
   ],
   "source": [
    "PROJECT_ID = 'quickstart_xai'\n",
    "\n",
    "client.create_project(PROJECT_ID)"
   ]
  },
  {
   "cell_type": "markdown",
   "metadata": {
    "id": "tlp8zEvlqO8I"
   },
   "source": [
    "You should now be able to see the newly created project on the UI.\n",
    "\n",
    "<table>\n",
    "    <tr>\n",
    "        <td>\n",
    "            <img src=\"https://fiddler-nb-assets.s3.us-west-1.amazonaws.com/xai_project_list.png\" />\n",
    "        </td>\n",
    "    </tr>\n",
    "</table>"
   ]
  },
  {
   "cell_type": "markdown",
   "metadata": {
    "id": "V3V2EhIdwA_Q"
   },
   "source": [
    "## 2. Upload a baseline dataset\n",
    "\n",
    "In this example, we'll be considering the case where we're a bank and we have **a model that predicts churn for our customers**.  \n",
    "We want to explain our model's predictions and **understand the features that impact model predictions** the most.\n",
    "  \n",
    "In order to get explainability insights, **Fiddler needs to fiddle with your model**. To do so, we need to add your model details. This includes information about the data used by your model. So, we first start with uploading a small sample of data that can serve as a baseline.\n",
    "\n",
    "\n",
    "---\n",
    "\n",
    "\n",
    "*For more information on how to design a baseline dataset, [click here](https://docs.fiddler.ai/pages/user-guide/data-science-concepts/monitoring/designing-a-baseline-dataset/).*"
   ]
  },
  {
   "cell_type": "code",
   "execution_count": 14,
   "metadata": {
    "id": "TFVJcU8uCY7z"
   },
   "outputs": [
    {
     "data": {
      "text/html": [
       "<div>\n",
       "<style scoped>\n",
       "    .dataframe tbody tr th:only-of-type {\n",
       "        vertical-align: middle;\n",
       "    }\n",
       "\n",
       "    .dataframe tbody tr th {\n",
       "        vertical-align: top;\n",
       "    }\n",
       "\n",
       "    .dataframe thead th {\n",
       "        text-align: right;\n",
       "    }\n",
       "</style>\n",
       "<table border=\"1\" class=\"dataframe\">\n",
       "  <thead>\n",
       "    <tr style=\"text-align: right;\">\n",
       "      <th></th>\n",
       "      <th>customer_id</th>\n",
       "      <th>creditscore</th>\n",
       "      <th>geography</th>\n",
       "      <th>gender</th>\n",
       "      <th>age</th>\n",
       "      <th>tenure</th>\n",
       "      <th>balance</th>\n",
       "      <th>numofproducts</th>\n",
       "      <th>hascrcard</th>\n",
       "      <th>isactivemember</th>\n",
       "      <th>estimatedsalary</th>\n",
       "      <th>predicted_churn</th>\n",
       "      <th>decision</th>\n",
       "      <th>churn</th>\n",
       "    </tr>\n",
       "  </thead>\n",
       "  <tbody>\n",
       "    <tr>\n",
       "      <th>0</th>\n",
       "      <td>27acd1c2</td>\n",
       "      <td>545</td>\n",
       "      <td>Texas</td>\n",
       "      <td>Male</td>\n",
       "      <td>37</td>\n",
       "      <td>9</td>\n",
       "      <td>110483.86</td>\n",
       "      <td>1</td>\n",
       "      <td>1</td>\n",
       "      <td>1</td>\n",
       "      <td>127394.67</td>\n",
       "      <td>0.897202</td>\n",
       "      <td>high_risk</td>\n",
       "      <td>yes</td>\n",
       "    </tr>\n",
       "    <tr>\n",
       "      <th>1</th>\n",
       "      <td>27b36d0c</td>\n",
       "      <td>497</td>\n",
       "      <td>Texas</td>\n",
       "      <td>Female</td>\n",
       "      <td>55</td>\n",
       "      <td>7</td>\n",
       "      <td>131778.66</td>\n",
       "      <td>1</td>\n",
       "      <td>1</td>\n",
       "      <td>1</td>\n",
       "      <td>9972.64</td>\n",
       "      <td>0.997441</td>\n",
       "      <td>high_risk</td>\n",
       "      <td>yes</td>\n",
       "    </tr>\n",
       "    <tr>\n",
       "      <th>2</th>\n",
       "      <td>27b5360a</td>\n",
       "      <td>509</td>\n",
       "      <td>New York</td>\n",
       "      <td>Female</td>\n",
       "      <td>29</td>\n",
       "      <td>0</td>\n",
       "      <td>107712.57</td>\n",
       "      <td>2</td>\n",
       "      <td>1</td>\n",
       "      <td>1</td>\n",
       "      <td>92898.17</td>\n",
       "      <td>0.920563</td>\n",
       "      <td>high_risk</td>\n",
       "      <td>yes</td>\n",
       "    </tr>\n",
       "    <tr>\n",
       "      <th>3</th>\n",
       "      <td>27b5d650</td>\n",
       "      <td>743</td>\n",
       "      <td>Hawaii</td>\n",
       "      <td>Nonbinary</td>\n",
       "      <td>39</td>\n",
       "      <td>6</td>\n",
       "      <td>0.00</td>\n",
       "      <td>2</td>\n",
       "      <td>1</td>\n",
       "      <td>0</td>\n",
       "      <td>44265.28</td>\n",
       "      <td>0.779282</td>\n",
       "      <td>high_risk</td>\n",
       "      <td>yes</td>\n",
       "    </tr>\n",
       "    <tr>\n",
       "      <th>4</th>\n",
       "      <td>27b236a8</td>\n",
       "      <td>699</td>\n",
       "      <td>Florida</td>\n",
       "      <td>Female</td>\n",
       "      <td>25</td>\n",
       "      <td>8</td>\n",
       "      <td>0.00</td>\n",
       "      <td>2</td>\n",
       "      <td>1</td>\n",
       "      <td>1</td>\n",
       "      <td>52404.47</td>\n",
       "      <td>0.825474</td>\n",
       "      <td>high_risk</td>\n",
       "      <td>yes</td>\n",
       "    </tr>\n",
       "    <tr>\n",
       "      <th>...</th>\n",
       "      <td>...</td>\n",
       "      <td>...</td>\n",
       "      <td>...</td>\n",
       "      <td>...</td>\n",
       "      <td>...</td>\n",
       "      <td>...</td>\n",
       "      <td>...</td>\n",
       "      <td>...</td>\n",
       "      <td>...</td>\n",
       "      <td>...</td>\n",
       "      <td>...</td>\n",
       "      <td>...</td>\n",
       "      <td>...</td>\n",
       "      <td>...</td>\n",
       "    </tr>\n",
       "    <tr>\n",
       "      <th>19995</th>\n",
       "      <td>27b409ba</td>\n",
       "      <td>686</td>\n",
       "      <td>Texas</td>\n",
       "      <td>Male</td>\n",
       "      <td>39</td>\n",
       "      <td>3</td>\n",
       "      <td>129626.19</td>\n",
       "      <td>2</td>\n",
       "      <td>1</td>\n",
       "      <td>1</td>\n",
       "      <td>103220.56</td>\n",
       "      <td>0.760645</td>\n",
       "      <td>high_risk</td>\n",
       "      <td>yes</td>\n",
       "    </tr>\n",
       "    <tr>\n",
       "      <th>19996</th>\n",
       "      <td>27aaff96</td>\n",
       "      <td>446</td>\n",
       "      <td>Massachusetts</td>\n",
       "      <td>Female</td>\n",
       "      <td>45</td>\n",
       "      <td>10</td>\n",
       "      <td>125191.69</td>\n",
       "      <td>1</td>\n",
       "      <td>1</td>\n",
       "      <td>1</td>\n",
       "      <td>128260.86</td>\n",
       "      <td>0.216093</td>\n",
       "      <td>low_risk</td>\n",
       "      <td>no</td>\n",
       "    </tr>\n",
       "    <tr>\n",
       "      <th>19997</th>\n",
       "      <td>27ad3162</td>\n",
       "      <td>794</td>\n",
       "      <td>California</td>\n",
       "      <td>Male</td>\n",
       "      <td>35</td>\n",
       "      <td>6</td>\n",
       "      <td>0.00</td>\n",
       "      <td>2</td>\n",
       "      <td>1</td>\n",
       "      <td>1</td>\n",
       "      <td>68730.91</td>\n",
       "      <td>0.982021</td>\n",
       "      <td>high_risk</td>\n",
       "      <td>yes</td>\n",
       "    </tr>\n",
       "    <tr>\n",
       "      <th>19998</th>\n",
       "      <td>27b076ce</td>\n",
       "      <td>832</td>\n",
       "      <td>California</td>\n",
       "      <td>Male</td>\n",
       "      <td>61</td>\n",
       "      <td>2</td>\n",
       "      <td>0.00</td>\n",
       "      <td>1</td>\n",
       "      <td>0</td>\n",
       "      <td>1</td>\n",
       "      <td>127804.66</td>\n",
       "      <td>0.071598</td>\n",
       "      <td>low_risk</td>\n",
       "      <td>no</td>\n",
       "    </tr>\n",
       "    <tr>\n",
       "      <th>19999</th>\n",
       "      <td>27aee1d8</td>\n",
       "      <td>641</td>\n",
       "      <td>Massachusetts</td>\n",
       "      <td>Female</td>\n",
       "      <td>36</td>\n",
       "      <td>1</td>\n",
       "      <td>0.00</td>\n",
       "      <td>2</td>\n",
       "      <td>1</td>\n",
       "      <td>0</td>\n",
       "      <td>102021.39</td>\n",
       "      <td>0.817325</td>\n",
       "      <td>high_risk</td>\n",
       "      <td>yes</td>\n",
       "    </tr>\n",
       "  </tbody>\n",
       "</table>\n",
       "<p>20000 rows × 14 columns</p>\n",
       "</div>"
      ],
      "text/plain": [
       "      customer_id  creditscore      geography     gender  age  tenure  \\\n",
       "0        27acd1c2          545          Texas       Male   37       9   \n",
       "1        27b36d0c          497          Texas     Female   55       7   \n",
       "2        27b5360a          509       New York     Female   29       0   \n",
       "3        27b5d650          743         Hawaii  Nonbinary   39       6   \n",
       "4        27b236a8          699        Florida     Female   25       8   \n",
       "...           ...          ...            ...        ...  ...     ...   \n",
       "19995    27b409ba          686          Texas       Male   39       3   \n",
       "19996    27aaff96          446  Massachusetts     Female   45      10   \n",
       "19997    27ad3162          794     California       Male   35       6   \n",
       "19998    27b076ce          832     California       Male   61       2   \n",
       "19999    27aee1d8          641  Massachusetts     Female   36       1   \n",
       "\n",
       "         balance  numofproducts  hascrcard  isactivemember  estimatedsalary  \\\n",
       "0      110483.86              1          1               1        127394.67   \n",
       "1      131778.66              1          1               1          9972.64   \n",
       "2      107712.57              2          1               1         92898.17   \n",
       "3           0.00              2          1               0         44265.28   \n",
       "4           0.00              2          1               1         52404.47   \n",
       "...          ...            ...        ...             ...              ...   \n",
       "19995  129626.19              2          1               1        103220.56   \n",
       "19996  125191.69              1          1               1        128260.86   \n",
       "19997       0.00              2          1               1         68730.91   \n",
       "19998       0.00              1          0               1        127804.66   \n",
       "19999       0.00              2          1               0        102021.39   \n",
       "\n",
       "       predicted_churn   decision churn  \n",
       "0             0.897202  high_risk   yes  \n",
       "1             0.997441  high_risk   yes  \n",
       "2             0.920563  high_risk   yes  \n",
       "3             0.779282  high_risk   yes  \n",
       "4             0.825474  high_risk   yes  \n",
       "...                ...        ...   ...  \n",
       "19995         0.760645  high_risk   yes  \n",
       "19996         0.216093   low_risk    no  \n",
       "19997         0.982021  high_risk   yes  \n",
       "19998         0.071598   low_risk    no  \n",
       "19999         0.817325  high_risk   yes  \n",
       "\n",
       "[20000 rows x 14 columns]"
      ]
     },
     "execution_count": 14,
     "metadata": {},
     "output_type": "execute_result"
    }
   ],
   "source": [
    "PATH_TO_BASELINE_CSV = 'https://raw.githubusercontent.com/fiddler-labs/fiddler-samples/master/content_root/tutorial/quickstart/churn_baseline.csv'\n",
    "\n",
    "baseline_df = pd.read_csv(PATH_TO_BASELINE_CSV)\n",
    "baseline_df"
   ]
  },
  {
   "cell_type": "markdown",
   "metadata": {
    "id": "niKle55HCgIj"
   },
   "source": [
    "Fiddler uses this baseline dataset to keep track of important information about your data.\n",
    "  \n",
    "This includes **data types**, **data ranges**, and **unique values** for categorical variables.\n",
    "\n",
    "---\n",
    "\n",
    "You can construct a `DatasetInfo` object to be used as **a schema for keeping track of this information** by running the following code block."
   ]
  },
  {
   "cell_type": "code",
   "execution_count": 15,
   "metadata": {
    "id": "TI_x9-T93G-v"
   },
   "outputs": [
    {
     "data": {
      "text/html": [
       "<div style=\"border: thin solid rgb(41, 57, 141); padding: 10px;\"><h3 style=\"text-align: center; margin: auto;\">DatasetInfo\n",
       "</h3><pre>display_name: \n",
       "files: []\n",
       "</pre><hr>Columns:<div>\n",
       "<style scoped>\n",
       "    .dataframe tbody tr th:only-of-type {\n",
       "        vertical-align: middle;\n",
       "    }\n",
       "\n",
       "    .dataframe tbody tr th {\n",
       "        vertical-align: top;\n",
       "    }\n",
       "\n",
       "    .dataframe thead th {\n",
       "        text-align: right;\n",
       "    }\n",
       "</style>\n",
       "<table border=\"1\" class=\"dataframe\">\n",
       "  <thead>\n",
       "    <tr style=\"text-align: right;\">\n",
       "      <th></th>\n",
       "      <th>column</th>\n",
       "      <th>dtype</th>\n",
       "      <th>count(possible_values)</th>\n",
       "      <th>is_nullable</th>\n",
       "      <th>value_range</th>\n",
       "    </tr>\n",
       "  </thead>\n",
       "  <tbody>\n",
       "    <tr>\n",
       "      <th>0</th>\n",
       "      <td>customer_id</td>\n",
       "      <td>STRING</td>\n",
       "      <td></td>\n",
       "      <td>False</td>\n",
       "      <td></td>\n",
       "    </tr>\n",
       "    <tr>\n",
       "      <th>1</th>\n",
       "      <td>creditscore</td>\n",
       "      <td>INTEGER</td>\n",
       "      <td></td>\n",
       "      <td>False</td>\n",
       "      <td>350 - 850</td>\n",
       "    </tr>\n",
       "    <tr>\n",
       "      <th>2</th>\n",
       "      <td>geography</td>\n",
       "      <td>CATEGORY</td>\n",
       "      <td>6</td>\n",
       "      <td>False</td>\n",
       "      <td></td>\n",
       "    </tr>\n",
       "    <tr>\n",
       "      <th>3</th>\n",
       "      <td>gender</td>\n",
       "      <td>CATEGORY</td>\n",
       "      <td>3</td>\n",
       "      <td>False</td>\n",
       "      <td></td>\n",
       "    </tr>\n",
       "    <tr>\n",
       "      <th>4</th>\n",
       "      <td>age</td>\n",
       "      <td>INTEGER</td>\n",
       "      <td></td>\n",
       "      <td>False</td>\n",
       "      <td>18 - 92</td>\n",
       "    </tr>\n",
       "    <tr>\n",
       "      <th>5</th>\n",
       "      <td>tenure</td>\n",
       "      <td>INTEGER</td>\n",
       "      <td></td>\n",
       "      <td>False</td>\n",
       "      <td>0 - 10</td>\n",
       "    </tr>\n",
       "    <tr>\n",
       "      <th>6</th>\n",
       "      <td>balance</td>\n",
       "      <td>FLOAT</td>\n",
       "      <td></td>\n",
       "      <td>False</td>\n",
       "      <td>0.0 - 250,900.0</td>\n",
       "    </tr>\n",
       "    <tr>\n",
       "      <th>7</th>\n",
       "      <td>numofproducts</td>\n",
       "      <td>INTEGER</td>\n",
       "      <td></td>\n",
       "      <td>False</td>\n",
       "      <td>1 - 4</td>\n",
       "    </tr>\n",
       "    <tr>\n",
       "      <th>8</th>\n",
       "      <td>hascrcard</td>\n",
       "      <td>INTEGER</td>\n",
       "      <td></td>\n",
       "      <td>False</td>\n",
       "      <td>0 - 1</td>\n",
       "    </tr>\n",
       "    <tr>\n",
       "      <th>9</th>\n",
       "      <td>isactivemember</td>\n",
       "      <td>INTEGER</td>\n",
       "      <td></td>\n",
       "      <td>False</td>\n",
       "      <td>0 - 1</td>\n",
       "    </tr>\n",
       "    <tr>\n",
       "      <th>10</th>\n",
       "      <td>estimatedsalary</td>\n",
       "      <td>FLOAT</td>\n",
       "      <td></td>\n",
       "      <td>False</td>\n",
       "      <td>11.58 - 200,000.0</td>\n",
       "    </tr>\n",
       "    <tr>\n",
       "      <th>11</th>\n",
       "      <td>predicted_churn</td>\n",
       "      <td>FLOAT</td>\n",
       "      <td></td>\n",
       "      <td>False</td>\n",
       "      <td>0.0 - 1.0</td>\n",
       "    </tr>\n",
       "    <tr>\n",
       "      <th>12</th>\n",
       "      <td>decision</td>\n",
       "      <td>CATEGORY</td>\n",
       "      <td>2</td>\n",
       "      <td>False</td>\n",
       "      <td></td>\n",
       "    </tr>\n",
       "    <tr>\n",
       "      <th>13</th>\n",
       "      <td>churn</td>\n",
       "      <td>CATEGORY</td>\n",
       "      <td>2</td>\n",
       "      <td>False</td>\n",
       "      <td></td>\n",
       "    </tr>\n",
       "  </tbody>\n",
       "</table>\n",
       "</div></div>"
      ],
      "text/plain": [
       "DatasetInfo:\n",
       "  display_name: \n",
       "  files: []\n",
       "  columns:\n",
       "                 column     dtype count(possible_values) is_nullable  \\\n",
       "    0       customer_id    STRING                              False   \n",
       "    1       creditscore   INTEGER                              False   \n",
       "    2         geography  CATEGORY                      6       False   \n",
       "    3            gender  CATEGORY                      3       False   \n",
       "    4               age   INTEGER                              False   \n",
       "    5            tenure   INTEGER                              False   \n",
       "    6           balance     FLOAT                              False   \n",
       "    7     numofproducts   INTEGER                              False   \n",
       "    8         hascrcard   INTEGER                              False   \n",
       "    9    isactivemember   INTEGER                              False   \n",
       "    10  estimatedsalary     FLOAT                              False   \n",
       "    11  predicted_churn     FLOAT                              False   \n",
       "    12         decision  CATEGORY                      2       False   \n",
       "    13            churn  CATEGORY                      2       False   \n",
       "\n",
       "                  value_range  \n",
       "    0                          \n",
       "    1         350 - 850        \n",
       "    2                          \n",
       "    3                          \n",
       "    4          18 - 92         \n",
       "    5           0 - 10         \n",
       "    6         0.0 - 250,900.0  \n",
       "    7           1 - 4          \n",
       "    8           0 - 1          \n",
       "    9           0 - 1          \n",
       "    10      11.58 - 200,000.0  \n",
       "    11        0.0 - 1.0        \n",
       "    12                         \n",
       "    13                         "
      ]
     },
     "execution_count": 15,
     "metadata": {},
     "output_type": "execute_result"
    }
   ],
   "source": [
    "dataset_info = fdl.DatasetInfo.from_dataframe(baseline_df, max_inferred_cardinality=100)\n",
    "dataset_info"
   ]
  },
  {
   "cell_type": "markdown",
   "metadata": {
    "id": "32YjZcpTDwKU"
   },
   "source": [
    "Then use the client's `upload_dataset` function to send this information to Fiddler!\n",
    "  \n",
    "*Just include:*\n",
    "1. A unique dataset ID\n",
    "2. The baseline dataset as a pandas DataFrame\n",
    "3. The `DatasetInfo` object you just created"
   ]
  },
  {
   "cell_type": "code",
   "execution_count": 16,
   "metadata": {
    "id": "Nk0Bpus92oJK"
   },
   "outputs": [
    {
     "data": {
      "text/plain": [
       "{'uuid': '0f030210-bac6-4cc7-bdec-dbf3eaa427d8',\n",
       " 'name': 'Ingestion dataset Upload',\n",
       " 'info': {'project_name': 'quickstart_xai100',\n",
       "  'resource_name': 'churn_data',\n",
       "  'resource_type': 'DATASET'},\n",
       " 'status': 'SUCCESS',\n",
       " 'progress': 100.0,\n",
       " 'error_message': None}"
      ]
     },
     "execution_count": 16,
     "metadata": {},
     "output_type": "execute_result"
    }
   ],
   "source": [
    "DATASET_ID = 'churn_data'\n",
    "\n",
    "client.upload_dataset(\n",
    "    project_id=PROJECT_ID,\n",
    "    dataset_id=DATASET_ID,\n",
    "    dataset={\n",
    "        'baseline': baseline_df\n",
    "    },\n",
    "    info=dataset_info\n",
    ")"
   ]
  },
  {
   "cell_type": "markdown",
   "metadata": {
    "id": "D9Phfp9Yu7bA"
   },
   "source": [
    "If you click on your project, you should now be able to see the newly created dataset on the UI.\n",
    "\n",
    "<!-- <table>\n",
    "    <tr>\n",
    "        <td>\n",
    "            <img src=\"https://fiddler-nb-assets.s3.us-west-1.amazonaws.com/qs_new_dataset.png\" />\n",
    "        </td>\n",
    "    </tr>\n",
    "</table> -->"
   ]
  },
  {
   "cell_type": "markdown",
   "metadata": {
    "id": "IK3sL73_4FxO"
   },
   "source": [
    "## 3. Add information about your model\n",
    "\n",
    "Now it's time to add details about your model with Fiddler. We do so by first creating a **ModelInfo Object** that helps Fiddler understand **how your model operates**.\n",
    "  \n",
    "*Just include:*\n",
    "1. The **task** your model is performing (regression, binary classification, etc.)\n",
    "2. The **target** (ground truth) column\n",
    "3. The **output** (prediction) column\n",
    "4. The **feature** columns\n",
    "5. Any **metadata** columns\n",
    "6. Any **decision** columns (these measures the direct business decisions made as result of the model's prediction)\n"
   ]
  },
  {
   "cell_type": "code",
   "execution_count": 17,
   "metadata": {
    "id": "kpKz2dDK4ZiV"
   },
   "outputs": [
    {
     "name": "stderr",
     "output_type": "stream",
     "text": [
      "No `binary_classification_threshold` specified, defaulting to 0.5\n"
     ]
    },
    {
     "data": {
      "text/html": [
       "<div style=\"border: thin solid rgb(41, 57, 141); padding: 10px;\"><h3 style=\"text-align: center; margin: auto;\">ModelInfo\n",
       "</h3><pre>  display_name:  model\n",
       "  description: None\n",
       "  input_type: ModelInputType.TABULAR\n",
       "  model_task: ModelTask.BINARY_CLASSIFICATION\n",
       "  target_class_order: ['no', 'yes']\n",
       "  preferred_explanation: None\n",
       "  custom_explanation_names: []\n",
       "  misc: {}</pre><hr>targets:<div>\n",
       "<style scoped>\n",
       "    .dataframe tbody tr th:only-of-type {\n",
       "        vertical-align: middle;\n",
       "    }\n",
       "\n",
       "    .dataframe tbody tr th {\n",
       "        vertical-align: top;\n",
       "    }\n",
       "\n",
       "    .dataframe thead th {\n",
       "        text-align: right;\n",
       "    }\n",
       "</style>\n",
       "<table border=\"1\" class=\"dataframe\">\n",
       "  <thead>\n",
       "    <tr style=\"text-align: right;\">\n",
       "      <th></th>\n",
       "      <th>column</th>\n",
       "      <th>dtype</th>\n",
       "      <th>count(possible_values)</th>\n",
       "      <th>is_nullable</th>\n",
       "      <th>value_range</th>\n",
       "    </tr>\n",
       "  </thead>\n",
       "  <tbody>\n",
       "    <tr>\n",
       "      <th>0</th>\n",
       "      <td>churn</td>\n",
       "      <td>CATEGORY</td>\n",
       "      <td>2</td>\n",
       "      <td>False</td>\n",
       "      <td></td>\n",
       "    </tr>\n",
       "  </tbody>\n",
       "</table>\n",
       "</div><hr>inputs:<div>\n",
       "<style scoped>\n",
       "    .dataframe tbody tr th:only-of-type {\n",
       "        vertical-align: middle;\n",
       "    }\n",
       "\n",
       "    .dataframe tbody tr th {\n",
       "        vertical-align: top;\n",
       "    }\n",
       "\n",
       "    .dataframe thead th {\n",
       "        text-align: right;\n",
       "    }\n",
       "</style>\n",
       "<table border=\"1\" class=\"dataframe\">\n",
       "  <thead>\n",
       "    <tr style=\"text-align: right;\">\n",
       "      <th></th>\n",
       "      <th>column</th>\n",
       "      <th>dtype</th>\n",
       "      <th>count(possible_values)</th>\n",
       "      <th>is_nullable</th>\n",
       "      <th>value_range</th>\n",
       "    </tr>\n",
       "  </thead>\n",
       "  <tbody>\n",
       "    <tr>\n",
       "      <th>0</th>\n",
       "      <td>geography</td>\n",
       "      <td>CATEGORY</td>\n",
       "      <td>6</td>\n",
       "      <td>False</td>\n",
       "      <td></td>\n",
       "    </tr>\n",
       "    <tr>\n",
       "      <th>1</th>\n",
       "      <td>gender</td>\n",
       "      <td>CATEGORY</td>\n",
       "      <td>3</td>\n",
       "      <td>False</td>\n",
       "      <td></td>\n",
       "    </tr>\n",
       "    <tr>\n",
       "      <th>2</th>\n",
       "      <td>age</td>\n",
       "      <td>INTEGER</td>\n",
       "      <td></td>\n",
       "      <td>False</td>\n",
       "      <td>18 - 92</td>\n",
       "    </tr>\n",
       "    <tr>\n",
       "      <th>3</th>\n",
       "      <td>tenure</td>\n",
       "      <td>INTEGER</td>\n",
       "      <td></td>\n",
       "      <td>False</td>\n",
       "      <td>0 - 10</td>\n",
       "    </tr>\n",
       "    <tr>\n",
       "      <th>4</th>\n",
       "      <td>balance</td>\n",
       "      <td>FLOAT</td>\n",
       "      <td></td>\n",
       "      <td>False</td>\n",
       "      <td>0.0 - 250,900.0</td>\n",
       "    </tr>\n",
       "    <tr>\n",
       "      <th>5</th>\n",
       "      <td>numofproducts</td>\n",
       "      <td>INTEGER</td>\n",
       "      <td></td>\n",
       "      <td>False</td>\n",
       "      <td>1 - 4</td>\n",
       "    </tr>\n",
       "    <tr>\n",
       "      <th>6</th>\n",
       "      <td>hascrcard</td>\n",
       "      <td>INTEGER</td>\n",
       "      <td></td>\n",
       "      <td>False</td>\n",
       "      <td>0 - 1</td>\n",
       "    </tr>\n",
       "    <tr>\n",
       "      <th>7</th>\n",
       "      <td>isactivemember</td>\n",
       "      <td>INTEGER</td>\n",
       "      <td></td>\n",
       "      <td>False</td>\n",
       "      <td>0 - 1</td>\n",
       "    </tr>\n",
       "    <tr>\n",
       "      <th>8</th>\n",
       "      <td>estimatedsalary</td>\n",
       "      <td>FLOAT</td>\n",
       "      <td></td>\n",
       "      <td>False</td>\n",
       "      <td>11.58 - 200,000.0</td>\n",
       "    </tr>\n",
       "  </tbody>\n",
       "</table>\n",
       "</div><hr>outputs:<div>\n",
       "<style scoped>\n",
       "    .dataframe tbody tr th:only-of-type {\n",
       "        vertical-align: middle;\n",
       "    }\n",
       "\n",
       "    .dataframe tbody tr th {\n",
       "        vertical-align: top;\n",
       "    }\n",
       "\n",
       "    .dataframe thead th {\n",
       "        text-align: right;\n",
       "    }\n",
       "</style>\n",
       "<table border=\"1\" class=\"dataframe\">\n",
       "  <thead>\n",
       "    <tr style=\"text-align: right;\">\n",
       "      <th></th>\n",
       "      <th>column</th>\n",
       "      <th>dtype</th>\n",
       "      <th>count(possible_values)</th>\n",
       "      <th>is_nullable</th>\n",
       "      <th>value_range</th>\n",
       "    </tr>\n",
       "  </thead>\n",
       "  <tbody>\n",
       "    <tr>\n",
       "      <th>0</th>\n",
       "      <td>predicted_churn</td>\n",
       "      <td>FLOAT</td>\n",
       "      <td></td>\n",
       "      <td>False</td>\n",
       "      <td>0.0 - 1.0</td>\n",
       "    </tr>\n",
       "  </tbody>\n",
       "</table>\n",
       "</div><hr>decisions:<div>\n",
       "<style scoped>\n",
       "    .dataframe tbody tr th:only-of-type {\n",
       "        vertical-align: middle;\n",
       "    }\n",
       "\n",
       "    .dataframe tbody tr th {\n",
       "        vertical-align: top;\n",
       "    }\n",
       "\n",
       "    .dataframe thead th {\n",
       "        text-align: right;\n",
       "    }\n",
       "</style>\n",
       "<table border=\"1\" class=\"dataframe\">\n",
       "  <thead>\n",
       "    <tr style=\"text-align: right;\">\n",
       "      <th></th>\n",
       "      <th>column</th>\n",
       "      <th>dtype</th>\n",
       "      <th>count(possible_values)</th>\n",
       "      <th>is_nullable</th>\n",
       "      <th>value_range</th>\n",
       "    </tr>\n",
       "  </thead>\n",
       "  <tbody>\n",
       "    <tr>\n",
       "      <th>0</th>\n",
       "      <td>decision</td>\n",
       "      <td>CATEGORY</td>\n",
       "      <td>2</td>\n",
       "      <td>False</td>\n",
       "      <td></td>\n",
       "    </tr>\n",
       "  </tbody>\n",
       "</table>\n",
       "</div></div>"
      ],
      "text/plain": [
       "ModelInfo:\n",
       "  display_name:  model\n",
       "  description: None\n",
       "  input_type: ModelInputType.TABULAR\n",
       "  model_task: ModelTask.BINARY_CLASSIFICATION\n",
       "  target_class_order: ['no', 'yes']\n",
       "  preferred_explanation: None\n",
       "  custom_explanation_names: []\n",
       "  inputs:\n",
       "                column     dtype count(possible_values) is_nullable  \\\n",
       "    0        geography  CATEGORY                      6       False   \n",
       "    1           gender  CATEGORY                      3       False   \n",
       "    2              age   INTEGER                              False   \n",
       "    3           tenure   INTEGER                              False   \n",
       "    4          balance     FLOAT                              False   \n",
       "    5    numofproducts   INTEGER                              False   \n",
       "    6        hascrcard   INTEGER                              False   \n",
       "    7   isactivemember   INTEGER                              False   \n",
       "    8  estimatedsalary     FLOAT                              False   \n",
       "\n",
       "                 value_range  \n",
       "    0                         \n",
       "    1                         \n",
       "    2         18 - 92         \n",
       "    3          0 - 10         \n",
       "    4        0.0 - 250,900.0  \n",
       "    5          1 - 4          \n",
       "    6          0 - 1          \n",
       "    7          0 - 1          \n",
       "    8      11.58 - 200,000.0  \n",
       "  outputs:\n",
       "                column  dtype count(possible_values) is_nullable value_range\n",
       "    0  predicted_churn  FLOAT                              False   0.0 - 1.0\n",
       "\n",
       "\n",
       "  decisions:\n",
       "         column     dtype  count(possible_values) is_nullable value_range\n",
       "    0  decision  CATEGORY                       2       False            \n",
       "  targets:\n",
       "      column     dtype  count(possible_values) is_nullable value_range\n",
       "    0  churn  CATEGORY                       2       False              misc:\n",
       "    {}"
      ]
     },
     "execution_count": 17,
     "metadata": {},
     "output_type": "execute_result"
    }
   ],
   "source": [
    "# Specify task\n",
    "model_task = 'binary'\n",
    "\n",
    "if model_task == 'regression':\n",
    "    model_task = fdl.ModelTask.REGRESSION\n",
    "    \n",
    "elif model_task == 'binary':\n",
    "    model_task = fdl.ModelTask.BINARY_CLASSIFICATION\n",
    "\n",
    "elif model_task == 'multiclass':\n",
    "    model_task = fdl.ModelTask.MULTICLASS_CLASSIFICATION\n",
    "\n",
    "    \n",
    "# Specify column types\n",
    "target = 'churn'\n",
    "outputs = ['predicted_churn']\n",
    "decision_cols = ['decision']\n",
    "features = ['geography', 'gender', 'age', 'tenure', 'balance', 'numofproducts', 'hascrcard', 'isactivemember', 'estimatedsalary']\n",
    "    \n",
    "# Generate ModelInfo\n",
    "model_info = fdl.ModelInfo.from_dataset_info(\n",
    "    dataset_info=dataset_info,\n",
    "    dataset_id=DATASET_ID,\n",
    "    model_task=model_task,\n",
    "    target=target,\n",
    "    outputs=outputs,\n",
    "    decision_cols=decision_cols,\n",
    "    features=features\n",
    ")\n",
    "model_info"
   ]
  },
  {
   "cell_type": "markdown",
   "metadata": {
    "id": "azE_UU6HE6vW"
   },
   "source": [
    "After ModelInfo object is created to save your model information, use the client's *add_model* call to add the generated details about your model. \n",
    "\n",
    "**Note:** You will need to specify a unique model ID.\n",
    "\n",
    "\n",
    "<!-- alows Fiddler to build a **surrogate model** on the backend that can provide more insight into your model's performance.\n",
    "  \n",
    "*For more information on surrogate models, [click here](https://docs.fiddler.ai/docs/surrogate-models).*\n",
    "\n",
    "\n",
    "---\n",
    "\n",
    "Almost done! Now just specify a unique model ID and use the client's `register_model` function to send this information to Fiddler. -->"
   ]
  },
  {
   "cell_type": "code",
   "execution_count": 18,
   "metadata": {
    "id": "HMDG9vei24pw"
   },
   "outputs": [
    {
     "name": "stdout",
     "output_type": "stream",
     "text": [
      "Start initialize monitoring\n",
      "Init monitoring succeeded:JOB UUID: 8ef70fca-8f11-4873-a1ab-0d239b0ba86a task id: d31c46f3-d302-4d4c-a26d-c5723cb549f2 result: {'result': 'SKETCH GENERATION RESULTS: \\nNo event-weighted HISTOGRAM sketch generated, which is only applicable for data with class imbalance.\\n No event-weighted FREQUENCY sketch generated, which is only applicable for data with class imbalance.\\n No event-weighted NULL_COUNT sketch generated, which is only applicable for data with class imbalance.'}\n"
     ]
    }
   ],
   "source": [
    "MODEL_ID = 'churn_classifier'\n",
    "\n",
    "client.add_model(\n",
    "    project_id=PROJECT_ID,\n",
    "    dataset_id=DATASET_ID,\n",
    "    model_id=MODEL_ID,\n",
    "    model_info=model_info\n",
    ")"
   ]
  },
  {
   "cell_type": "markdown",
   "metadata": {
    "id": "0GmqFXTYwRg6"
   },
   "source": [
    "On the project page, you should now be able to see the newly created model.\n",
    "\n",
    "<!-- <table>\n",
    "    <tr>\n",
    "        <td>\n",
    "            <img src=\"https://fiddler-nb-assets.s3.us-west-1.amazonaws.com/qs_new_model.png\" />\n",
    "        </td>\n",
    "    </tr>\n",
    "</table> -->"
   ]
  },
  {
   "cell_type": "markdown",
   "metadata": {
    "id": "GZNJ5NNm5vnA"
   },
   "source": [
    "## 4. Either upload your own model or generate a surrogate model\n",
    "\n",
    "With the above step, your model is added to Fiddler which means that for a given *project_id*, your given *model_id* now holds *ModelInfo* about the model you care about. \n",
    "\n",
    "In order to be able to run predictions for explainability analysis, however, you will need to upload your model file. If you just want to explore the XAI capabilities without providing your model to Fiddler, you can also generate a surrogate model which tries to mimic your model based on the details provided. \n",
    "\n",
    "In this quickstart, we will go with generating a surrogate model based on the information (ModelInfo) provided above."
   ]
  },
  {
   "cell_type": "code",
   "execution_count": 19,
   "metadata": {
    "id": "1dmA8PP7GTdJ"
   },
   "outputs": [
    {
     "name": "stdout",
     "output_type": "stream",
     "text": [
      "Validating model info...\n",
      "Generating surrogate model...\n",
      "Testing the deployed model with sample events...\n",
      "Dataset already has output columns; predictions already imported...\n",
      "Beginning to precache for dataset churn_data with model churn_classifier...\n",
      "\n",
      "--- Beginning Impact/Importance Caching ---\n",
      "\n",
      " |\u001b[94m██████████████████████████████████████████████████\u001b[0m| 100.0% Global Features Cached\n",
      "--- Finished Impact/Importance Caching ---\n",
      "\n",
      "Successfully precached for dataset churn_data with model churn_classifier\n",
      "Pre-caching completed \n"
     ]
    }
   ],
   "source": [
    "client.add_model_surrogate(\n",
    "    project_id=PROJECT_ID,\n",
    "    model_id=MODEL_ID\n",
    ")"
   ]
  },
  {
   "cell_type": "code",
   "execution_count": 22,
   "metadata": {},
   "outputs": [],
   "source": [
    "PATH_TO_EVENTS_CSV = 'https://raw.githubusercontent.com/fiddler-labs/fiddler-samples/master/content_root/tutorial/quickstart/churn_events.csv'\n",
    "\n",
    "production_df = pd.read_csv(PATH_TO_EVENTS_CSV)\n",
    "# Shift the timestamps of the production events to be as recent as today \n",
    "production_df['timestamp'] = production_df['timestamp'] + (int(time.time() * 1000) - production_df['timestamp'].max())"
   ]
  },
  {
   "cell_type": "code",
   "execution_count": 23,
   "metadata": {},
   "outputs": [
    {
     "data": {
      "text/plain": [
       "{'status': 202,\n",
       " 'job_uuid': '69b6e8e6-ef6a-4e32-9339-4febf54c1f46',\n",
       " 'files': ['tmpz_59p642.csv'],\n",
       " 'message': 'Successfully received the event data. Please allow time for the event ingestion to complete in the Fiddler platform.'}"
      ]
     },
     "execution_count": 23,
     "metadata": {},
     "output_type": "execute_result"
    }
   ],
   "source": [
    "client.publish_events_batch(\n",
    "    project_id=PROJECT_ID,\n",
    "    model_id=MODEL_ID,\n",
    "    batch_source=production_df,\n",
    "    timestamp_field='timestamp',\n",
    "    id_field='customer_id' # Optional\n",
    ")"
   ]
  },
  {
   "cell_type": "markdown",
   "metadata": {
    "id": "vR6IR8YNHgG1"
   },
   "source": [
    "## 5. Get insights\n",
    "\n",
    "**You're all done!**\n",
    "  \n",
    "You can head to your Fiddler URL and start getting enhanced monitoring and explainability into the surrogate model.\n",
    "\n",
    "Run the following code block to get your URL."
   ]
  },
  {
   "cell_type": "code",
   "execution_count": 24,
   "metadata": {
    "id": "VPjFE5USNsrF"
   },
   "outputs": [
    {
     "name": "stdout",
     "output_type": "stream",
     "text": [
      "https://mainbuild.dev.fiddler.ai/projects/quickstart_xai100/models/churn_classifier/explain\n"
     ]
    }
   ],
   "source": [
    "print('/'.join([URL, 'projects', PROJECT_ID, 'models', MODEL_ID, 'explain']))"
   ]
  },
  {
   "cell_type": "markdown",
   "metadata": {
    "id": "-DZMVHAEBzC_"
   },
   "source": [
    "The following screen will be available to you upon completion.\n",
    "<table>\n",
    "    <tr>\n",
    "        <td>\n",
    "            <img src=\"https://fiddler-nb-assets.s3.us-west-1.amazonaws.com/qs_monitoring.png\" />\n",
    "        </td>\n",
    "    </tr>\n",
    "</table>"
   ]
  },
  {
   "cell_type": "markdown",
   "metadata": {},
   "source": [
    "You can also run explanations from the client"
   ]
  },
  {
   "cell_type": "code",
   "execution_count": 25,
   "metadata": {},
   "outputs": [
    {
     "data": {
      "text/html": [
       "<div>\n",
       "<style scoped>\n",
       "    .dataframe tbody tr th:only-of-type {\n",
       "        vertical-align: middle;\n",
       "    }\n",
       "\n",
       "    .dataframe tbody tr th {\n",
       "        vertical-align: top;\n",
       "    }\n",
       "\n",
       "    .dataframe thead th {\n",
       "        text-align: right;\n",
       "    }\n",
       "</style>\n",
       "<table border=\"1\" class=\"dataframe\">\n",
       "  <thead>\n",
       "    <tr style=\"text-align: right;\">\n",
       "      <th></th>\n",
       "      <th>customer_id</th>\n",
       "      <th>creditscore</th>\n",
       "      <th>geography</th>\n",
       "      <th>gender</th>\n",
       "      <th>age</th>\n",
       "      <th>tenure</th>\n",
       "      <th>balance</th>\n",
       "      <th>numofproducts</th>\n",
       "      <th>hascrcard</th>\n",
       "      <th>isactivemember</th>\n",
       "      <th>estimatedsalary</th>\n",
       "      <th>predicted_churn</th>\n",
       "      <th>decision</th>\n",
       "      <th>churn</th>\n",
       "      <th>timestamp</th>\n",
       "    </tr>\n",
       "  </thead>\n",
       "  <tbody>\n",
       "    <tr>\n",
       "      <th>1</th>\n",
       "      <td>27c35cee</td>\n",
       "      <td>482</td>\n",
       "      <td>California</td>\n",
       "      <td>Male</td>\n",
       "      <td>55</td>\n",
       "      <td>5</td>\n",
       "      <td>97318.25</td>\n",
       "      <td>1</td>\n",
       "      <td>0</td>\n",
       "      <td>1</td>\n",
       "      <td>78416.14</td>\n",
       "      <td>0.804852</td>\n",
       "      <td>high_risk</td>\n",
       "      <td>yes</td>\n",
       "      <td>1670888548757</td>\n",
       "    </tr>\n",
       "  </tbody>\n",
       "</table>\n",
       "</div>"
      ],
      "text/plain": [
       "  customer_id  creditscore   geography gender  age  tenure   balance  \\\n",
       "1    27c35cee          482  California   Male   55       5  97318.25   \n",
       "\n",
       "   numofproducts  hascrcard  isactivemember  estimatedsalary  predicted_churn  \\\n",
       "1              1          0               1         78416.14         0.804852   \n",
       "\n",
       "    decision churn      timestamp  \n",
       "1  high_risk   yes  1670888548757  "
      ]
     },
     "execution_count": 25,
     "metadata": {},
     "output_type": "execute_result"
    }
   ],
   "source": [
    "#slice to run explanation on\n",
    "explain_df = production_df[1:2]\n",
    "explain_df"
   ]
  },
  {
   "cell_type": "code",
   "execution_count": 26,
   "metadata": {},
   "outputs": [],
   "source": [
    "explanation = client.run_explanation(\n",
    "    project_id=PROJECT_ID,\n",
    "    model_id=MODEL_ID,\n",
    "    dataset_id=DATASET_ID,\n",
    "    df=explain_df\n",
    ")"
   ]
  },
  {
   "cell_type": "code",
   "execution_count": 27,
   "metadata": {},
   "outputs": [
    {
     "data": {
      "text/plain": [
       "AttributionExplanation(algorithm='shap', inputs=['age', 'balance', 'estimatedsalary', 'gender', 'geography', 'hascrcard', 'isactivemember', 'numofproducts', 'tenure'], attributions=[-0.22829719896470613, 0.05395405345442672, 0.05821722432631347, 0.02592202192643008, 0.04889003726989818, 0.02747556207772711, 0.1840908533648324, -0.049035284568693584, 0.012210490163388729], misc={'background_dataset_size': 48, 'explanation_lower': {'age': -0.243328429925663, 'balance': 0.04439245878936571, 'estimatedsalary': 0.04956526927024543, 'gender': 0.02319085058945426, 'geography': 0.03921942993948388, 'hascrcard': 0.022864587965403943, 'isactivemember': 0.17853620456961852, 'numofproducts': -0.056895896255301254, 'tenure': 0.008863213995403421}, 'explanation_std': {'age': 0.015850668593051072, 'balance': 0.010129514348764366, 'estimatedsalary': 0.009736111895193158, 'gender': 0.003908115664891616, 'geography': 0.008640506622363618, 'hascrcard': 0.004068259835999008, 'isactivemember': 0.009262544439858522, 'numofproducts': 0.008657605000580772, 'tenure': 0.0034416033236894686}, 'explanation_upper': {'age': -0.21173778634499937, 'balance': 0.06456914522053107, 'estimatedsalary': 0.06876008452306143, 'gender': 0.030398699910525566, 'geography': 0.05585086912518243, 'hascrcard': 0.030558819276550936, 'isactivemember': 0.1947836143942194, 'numofproducts': -0.039755940280925516, 'tenure': 0.01573924013863177}})"
      ]
     },
     "execution_count": 27,
     "metadata": {},
     "output_type": "execute_result"
    }
   ],
   "source": [
    "explanation"
   ]
  },
  {
   "cell_type": "code",
   "execution_count": 28,
   "metadata": {},
   "outputs": [],
   "source": [
    "feature_importance = client.run_feature_importance(\n",
    "    project_id=PROJECT_ID,\n",
    "    model_id=MODEL_ID,\n",
    "    dataset_id=DATASET_ID\n",
    ")"
   ]
  },
  {
   "cell_type": "code",
   "execution_count": 29,
   "metadata": {},
   "outputs": [
    {
     "data": {
      "text/plain": [
       "FeatureImportanceResults(all_obs_input_df_size=10035, all_obs_reference_df_size=10035, ci_level=0.95, feature_names=['geography', 'gender', 'age', 'tenure', 'balance', 'numofproducts', 'hascrcard', 'isactivemember', 'estimatedsalary'], fixed_sample_ci=None, loss='pointwise_logloss', mean_loss=0.09957577539672471, mean_loss_ci=0.004857541008375612, mean_loss_increase_importance=[0.049955023407920345, 0.02807683033154858, 0.3966555059081438, 0.07513816389882265, 0.23996714417410486, 0.24323690839422388, 0.015668615204968435, 0.10479268500307345, 0.1999466006826271], n_references=10035, non_null_input_df_size=10035, non_null_reference_df_size=10035, random_sample_ci=[0.005341348769419479, 0.003268551190327656, 0.020154451032073955, 0.005777392606402853, 0.014228543199846922, 0.015509464497990658, 0.0020680140934179582, 0.009650673987729818, 0.012346292654041692])"
      ]
     },
     "execution_count": 29,
     "metadata": {},
     "output_type": "execute_result"
    }
   ],
   "source": [
    "feature_importance"
   ]
  },
  {
   "cell_type": "markdown",
   "metadata": {
    "id": "Jdkj1eHgOTAO"
   },
   "source": [
    "\n",
    "\n",
    "---\n",
    "\n",
    "\n",
    "**Questions?**  \n",
    "  \n",
    "Check out [our docs](https://docs.fiddler.ai/) for a more detailed explanation of what Fiddler has to offer.\n",
    "\n",
    "If you're still looking for answers, fill out a ticket on [our support page](https://fiddlerlabs.zendesk.com/) and we'll get back to you shortly."
   ]
  }
 ],
 "metadata": {
  "colab": {
   "collapsed_sections": [],
   "name": "Fiddler_Quick_Start_Guide.ipynb",
   "provenance": []
  },
  "kernelspec": {
   "display_name": "Python 3 (ipykernel)",
   "language": "python",
   "name": "python3"
  },
  "language_info": {
   "codemirror_mode": {
    "name": "ipython",
    "version": 3
   },
   "file_extension": ".py",
   "mimetype": "text/x-python",
   "name": "python",
   "nbconvert_exporter": "python",
   "pygments_lexer": "ipython3",
   "version": "3.8.15"
  }
 },
 "nbformat": 4,
 "nbformat_minor": 4
}
