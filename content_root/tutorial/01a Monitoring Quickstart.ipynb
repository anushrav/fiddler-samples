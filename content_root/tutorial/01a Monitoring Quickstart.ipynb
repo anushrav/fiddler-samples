{
 "cells": [
  {
   "cell_type": "markdown",
   "metadata": {},
   "source": [
    "# Fiddler Quick Start Guide"
   ]
  },
  {
   "cell_type": "markdown",
   "metadata": {},
   "source": [
    "This guide will walk you through the basic onboarding steps required to use Fiddler for production model monitoring and explainability. API documentation can be found [here](https://docs.fiddler.ai/api-reference/python-package/)\n",
    "\n",
    "<img src=\"images/QS_flowchart.png\" width=100 height=100 />"
   ]
  },
  {
   "cell_type": "code",
   "execution_count": 1,
   "metadata": {},
   "outputs": [],
   "source": [
    "# Importing all the required packages at the beginning\n",
    "import pandas as pd\n",
    "import pathlib\n",
    "import shutil\n",
    "import yaml\n",
    "import datetime\n",
    "import time\n",
    "from IPython.display import clear_output\n",
    "from random import sample, randint\n",
    "\n",
    "import fiddler as fdl"
   ]
  },
  {
   "cell_type": "markdown",
   "metadata": {},
   "source": [
    "### Step Zero: Client Setup (Connecting to the URL)"
   ]
  },
  {
   "cell_type": "markdown",
   "metadata": {},
   "source": [
    "First, we need to initialize the client object by specifying:\n",
    "- The `url`: url is the fiddler URL that you have been provided to access. Usually of the form ‘XXXXX.fiddler.ai’. Contact us if you don’t have it\n",
    "- The `org_id`: organization id is an identifier for the account. See Fiddler_URL/settings/general to find this id (listed as \"Organization ID\")\n",
    "<img src=\"images/org_id.png\" width=800 height=800 />\n",
    "- The `auth_token`: this token is used to authenticate access. See Fiddler_URL/settings/credentials to find, create, or change this token\n",
    "<img src=\"images/auth_token.png\" width=800 height=800 />\n",
    "\n",
    "You can also save this config as a file called `fiddler.ini` in the same folder as the notebook/script. That saves you from specifying the parameters in every notebook and script.\n"
   ]
  },
  {
   "cell_type": "code",
   "execution_count": null,
   "metadata": {},
   "outputs": [],
   "source": [
    "%%writefile fiddler.ini\n",
    "\n",
    "[FIDDLER]\n",
    "url = https://trial.fiddler.ai\n",
    "org_id = company_name\n",
    "auth_token = 43_character_length_token"
   ]
  },
  {
   "cell_type": "code",
   "execution_count": 2,
   "metadata": {},
   "outputs": [],
   "source": [
    "#client = fdl.FiddlerApi(url='https://trial.fiddler.ai', org_id='your_org_id', auth_token=\"your_auth_token\")\n",
    "client = fdl.FiddlerApi()"
   ]
  },
  {
   "cell_type": "markdown",
   "metadata": {},
   "source": [
    "### Step One: Create Project"
   ]
  },
  {
   "cell_type": "markdown",
   "metadata": {},
   "source": [
    "Here we will create a project, a convenient container for housing the models and datasets associated with a given ML use case."
   ]
  },
  {
   "cell_type": "code",
   "execution_count": 3,
   "metadata": {},
   "outputs": [
    {
     "data": {
      "text/plain": [
       "{'project_name': 'quickstart'}"
      ]
     },
     "execution_count": 3,
     "metadata": {},
     "output_type": "execute_result"
    }
   ],
   "source": [
    "project_id = 'quickstart' #This must only contain lowercase letters, numbers or underscore\n",
    "client.create_project(project_id)"
   ]
  },
  {
   "cell_type": "markdown",
   "metadata": {},
   "source": [
    "### Step Two: Upload Baseline Data"
   ]
  },
  {
   "cell_type": "markdown",
   "metadata": {},
   "source": [
    "Here we will upload the dataset (training data or a representive sample of the same) that will serve as baselines for various product capabilities, including monitoring and explainability of the models. For this tutorial, we will be using a cleaned version of auto insurance dataset that can be found [here](https://www.kaggle.com/somjee/auto-insurance-customerlifetimevalue?select=data.csv). We are predicting whether a customer would be high value or not. \n"
   ]
  },
  {
   "cell_type": "code",
   "execution_count": 4,
   "metadata": {},
   "outputs": [
    {
     "data": {
      "text/html": [
       "<div>\n",
       "<style scoped>\n",
       "    .dataframe tbody tr th:only-of-type {\n",
       "        vertical-align: middle;\n",
       "    }\n",
       "\n",
       "    .dataframe tbody tr th {\n",
       "        vertical-align: top;\n",
       "    }\n",
       "\n",
       "    .dataframe thead th {\n",
       "        text-align: right;\n",
       "    }\n",
       "</style>\n",
       "<table border=\"1\" class=\"dataframe\">\n",
       "  <thead>\n",
       "    <tr style=\"text-align: right;\">\n",
       "      <th></th>\n",
       "      <th>location_state</th>\n",
       "      <th>response</th>\n",
       "      <th>coverage</th>\n",
       "      <th>education</th>\n",
       "      <th>effective_to_date</th>\n",
       "      <th>employmentstatus</th>\n",
       "      <th>gender</th>\n",
       "      <th>income</th>\n",
       "      <th>location_code</th>\n",
       "      <th>marital_status</th>\n",
       "      <th>...</th>\n",
       "      <th>policy_type</th>\n",
       "      <th>policy</th>\n",
       "      <th>renew_offer_type</th>\n",
       "      <th>sales_channel</th>\n",
       "      <th>total_claim_amount</th>\n",
       "      <th>vehicle_class</th>\n",
       "      <th>vehicle_size</th>\n",
       "      <th>high_value</th>\n",
       "      <th>Campaign_A</th>\n",
       "      <th>probability_high_value</th>\n",
       "    </tr>\n",
       "  </thead>\n",
       "  <tbody>\n",
       "    <tr>\n",
       "      <td>0</td>\n",
       "      <td>Washington</td>\n",
       "      <td>No</td>\n",
       "      <td>Basic</td>\n",
       "      <td>Bachelor</td>\n",
       "      <td>2/24/11</td>\n",
       "      <td>Employed</td>\n",
       "      <td>F</td>\n",
       "      <td>56274</td>\n",
       "      <td>Suburban</td>\n",
       "      <td>Married</td>\n",
       "      <td>...</td>\n",
       "      <td>Corporate Auto</td>\n",
       "      <td>Corporate L3</td>\n",
       "      <td>Offer1</td>\n",
       "      <td>Agent</td>\n",
       "      <td>384.811147</td>\n",
       "      <td>Two-Door Car</td>\n",
       "      <td>Medsize</td>\n",
       "      <td>0</td>\n",
       "      <td>No</td>\n",
       "      <td>0.008710</td>\n",
       "    </tr>\n",
       "    <tr>\n",
       "      <td>1</td>\n",
       "      <td>Arizona</td>\n",
       "      <td>No</td>\n",
       "      <td>Extended</td>\n",
       "      <td>Bachelor</td>\n",
       "      <td>1/31/11</td>\n",
       "      <td>Unemployed</td>\n",
       "      <td>F</td>\n",
       "      <td>0</td>\n",
       "      <td>Suburban</td>\n",
       "      <td>Single</td>\n",
       "      <td>...</td>\n",
       "      <td>Personal Auto</td>\n",
       "      <td>Personal L3</td>\n",
       "      <td>Offer3</td>\n",
       "      <td>Agent</td>\n",
       "      <td>1131.464935</td>\n",
       "      <td>Four-Door Car</td>\n",
       "      <td>Medsize</td>\n",
       "      <td>1</td>\n",
       "      <td>Yes</td>\n",
       "      <td>0.992777</td>\n",
       "    </tr>\n",
       "    <tr>\n",
       "      <td>2</td>\n",
       "      <td>Nevada</td>\n",
       "      <td>No</td>\n",
       "      <td>Premium</td>\n",
       "      <td>Bachelor</td>\n",
       "      <td>2/19/11</td>\n",
       "      <td>Employed</td>\n",
       "      <td>F</td>\n",
       "      <td>48767</td>\n",
       "      <td>Suburban</td>\n",
       "      <td>Married</td>\n",
       "      <td>...</td>\n",
       "      <td>Personal Auto</td>\n",
       "      <td>Personal L3</td>\n",
       "      <td>Offer1</td>\n",
       "      <td>Agent</td>\n",
       "      <td>566.472247</td>\n",
       "      <td>Two-Door Car</td>\n",
       "      <td>Medsize</td>\n",
       "      <td>1</td>\n",
       "      <td>Yes</td>\n",
       "      <td>0.996348</td>\n",
       "    </tr>\n",
       "    <tr>\n",
       "      <td>3</td>\n",
       "      <td>California</td>\n",
       "      <td>No</td>\n",
       "      <td>Basic</td>\n",
       "      <td>Bachelor</td>\n",
       "      <td>1/20/11</td>\n",
       "      <td>Unemployed</td>\n",
       "      <td>M</td>\n",
       "      <td>0</td>\n",
       "      <td>Suburban</td>\n",
       "      <td>Married</td>\n",
       "      <td>...</td>\n",
       "      <td>Corporate Auto</td>\n",
       "      <td>Corporate L2</td>\n",
       "      <td>Offer1</td>\n",
       "      <td>Call Center</td>\n",
       "      <td>529.881344</td>\n",
       "      <td>SUV</td>\n",
       "      <td>Medsize</td>\n",
       "      <td>1</td>\n",
       "      <td>Yes</td>\n",
       "      <td>0.993976</td>\n",
       "    </tr>\n",
       "    <tr>\n",
       "      <td>4</td>\n",
       "      <td>Washington</td>\n",
       "      <td>No</td>\n",
       "      <td>Basic</td>\n",
       "      <td>Bachelor</td>\n",
       "      <td>2/3/11</td>\n",
       "      <td>Employed</td>\n",
       "      <td>M</td>\n",
       "      <td>43836</td>\n",
       "      <td>Rural</td>\n",
       "      <td>Single</td>\n",
       "      <td>...</td>\n",
       "      <td>Personal Auto</td>\n",
       "      <td>Personal L1</td>\n",
       "      <td>Offer1</td>\n",
       "      <td>Agent</td>\n",
       "      <td>138.130879</td>\n",
       "      <td>Four-Door Car</td>\n",
       "      <td>Medsize</td>\n",
       "      <td>0</td>\n",
       "      <td>No</td>\n",
       "      <td>0.008389</td>\n",
       "    </tr>\n",
       "  </tbody>\n",
       "</table>\n",
       "<p>5 rows × 25 columns</p>\n",
       "</div>"
      ],
      "text/plain": [
       "  location_state response  coverage education effective_to_date  \\\n",
       "0     Washington       No     Basic  Bachelor           2/24/11   \n",
       "1        Arizona       No  Extended  Bachelor           1/31/11   \n",
       "2         Nevada       No   Premium  Bachelor           2/19/11   \n",
       "3     California       No     Basic  Bachelor           1/20/11   \n",
       "4     Washington       No     Basic  Bachelor            2/3/11   \n",
       "\n",
       "  employmentstatus gender  income location_code marital_status  ...  \\\n",
       "0         Employed      F   56274      Suburban        Married  ...   \n",
       "1       Unemployed      F       0      Suburban         Single  ...   \n",
       "2         Employed      F   48767      Suburban        Married  ...   \n",
       "3       Unemployed      M       0      Suburban        Married  ...   \n",
       "4         Employed      M   43836         Rural         Single  ...   \n",
       "\n",
       "      policy_type        policy  renew_offer_type  sales_channel  \\\n",
       "0  Corporate Auto  Corporate L3            Offer1          Agent   \n",
       "1   Personal Auto   Personal L3            Offer3          Agent   \n",
       "2   Personal Auto   Personal L3            Offer1          Agent   \n",
       "3  Corporate Auto  Corporate L2            Offer1    Call Center   \n",
       "4   Personal Auto   Personal L1            Offer1          Agent   \n",
       "\n",
       "   total_claim_amount  vehicle_class vehicle_size high_value Campaign_A  \\\n",
       "0          384.811147   Two-Door Car      Medsize          0         No   \n",
       "1         1131.464935  Four-Door Car      Medsize          1        Yes   \n",
       "2          566.472247   Two-Door Car      Medsize          1        Yes   \n",
       "3          529.881344            SUV      Medsize          1        Yes   \n",
       "4          138.130879  Four-Door Car      Medsize          0         No   \n",
       "\n",
       "   probability_high_value  \n",
       "0                0.008710  \n",
       "1                0.992777  \n",
       "2                0.996348  \n",
       "3                0.993976  \n",
       "4                0.008389  \n",
       "\n",
       "[5 rows x 25 columns]"
      ]
     },
     "execution_count": 4,
     "metadata": {},
     "output_type": "execute_result"
    }
   ],
   "source": [
    "df = pd.read_csv(\"../samples/datasets/auto_insurance/data_cleaned.csv\")\n",
    "df.head()"
   ]
  },
  {
   "cell_type": "code",
   "execution_count": 5,
   "metadata": {},
   "outputs": [
    {
     "name": "stdout",
     "output_type": "stream",
     "text": [
      "Uploading the dataset auto_insurance ...\n"
     ]
    },
    {
     "data": {
      "text/plain": [
       "{'row_count': 9134,\n",
       " 'col_count': 25,\n",
       " 'log': ['Importing dataset auto_insurance',\n",
       "  'Creating table for auto_insurance',\n",
       "  'Importing data file: data.csv']}"
      ]
     },
     "execution_count": 5,
     "metadata": {},
     "output_type": "execute_result"
    }
   ],
   "source": [
    "# Uploading the dataset\n",
    "dataset_id = 'auto_insurance' #This must only contain lowercase letters, numbers or underscore\n",
    "client.upload_dataset(project_id=project_id,dataset_id = dataset_id, dataset = {'data' : df}, \n",
    "                      info = fdl.DatasetInfo.from_dataframe(df, max_inferred_cardinality=1000) )"
   ]
  },
  {
   "cell_type": "markdown",
   "metadata": {},
   "source": [
    "### Step Three: Register Model"
   ]
  },
  {
   "cell_type": "markdown",
   "metadata": {},
   "source": [
    "#### Create Model Schema"
   ]
  },
  {
   "cell_type": "markdown",
   "metadata": {},
   "source": [
    "As you may have noticed, in the dataset upload step we did not ask for the model’s features and targets, or any model specific information. That’s because we allow for linking multiple models to a given dataset schema. Hence we require an Infer model schema step which helps us know the features relevant to the model and the model task. Here you can specify the input features, the target column, decision columns and metadata columns, and also the type of model.\n",
    "- We can infer the model task from the target column, or it can explicitly set. Currently we support three model types:\n",
    "    - Regression\n",
    "    - Binary Classification\n",
    "    - Multi-class Classification"
   ]
  },
  {
   "cell_type": "code",
   "execution_count": 6,
   "metadata": {},
   "outputs": [
    {
     "data": {
      "text/plain": [
       "ModelInfo:\n",
       "  display_name: High value prediction model\n",
       "  description: This is a Binary Classification model from the tutorial\n",
       "  input_type: ModelInputType.TABULAR\n",
       "  model_task: ModelTask.BINARY_CLASSIFICATION\n",
       "  preferred_explanation: None\n",
       "  custom_explanation_names: []\n",
       "  inputs:\n",
       "                               column     dtype count(possible_values)  \\\n",
       "    0                  location_state  CATEGORY                      5   \n",
       "    1                        response  CATEGORY                      2   \n",
       "    2                        coverage  CATEGORY                      3   \n",
       "    3                       education  CATEGORY                      5   \n",
       "    4               effective_to_date  CATEGORY                     59   \n",
       "    5                employmentstatus  CATEGORY                      5   \n",
       "    6                          gender  CATEGORY                      2   \n",
       "    7                          income   INTEGER                          \n",
       "    8                   location_code  CATEGORY                      3   \n",
       "    9                  marital_status  CATEGORY                      3   \n",
       "    10           monthly_premium_auto   INTEGER                          \n",
       "    11        months_since_last_claim   INTEGER                          \n",
       "    12  months_since_policy_inception   INTEGER                          \n",
       "    13      number_of_open_complaints   INTEGER                          \n",
       "    14             number_of_policies   INTEGER                          \n",
       "    15                    policy_type  CATEGORY                      3   \n",
       "    16                         policy  CATEGORY                      9   \n",
       "    17               renew_offer_type  CATEGORY                      4   \n",
       "    18                  sales_channel  CATEGORY                      4   \n",
       "    19             total_claim_amount     FLOAT                          \n",
       "    20                  vehicle_class  CATEGORY                      6   \n",
       "    21                   vehicle_size  CATEGORY                      3   \n",
       "\n",
       "       is_nullable        value_range  \n",
       "    0        False                     \n",
       "    1        False                     \n",
       "    2        False                     \n",
       "    3        False                     \n",
       "    4        False                     \n",
       "    5        False                     \n",
       "    6        False                     \n",
       "    7        False        0 - 99,980   \n",
       "    8        False                     \n",
       "    9        False                     \n",
       "    10       False       61 - 298      \n",
       "    11       False        0 - 35       \n",
       "    12       False        0 - 99       \n",
       "    13       False        0 - 5        \n",
       "    14       False        1 - 9        \n",
       "    15       False                     \n",
       "    16       False                     \n",
       "    17       False                     \n",
       "    18       False                     \n",
       "    19       False    0.099 - 2,893.0  \n",
       "    20       False                     \n",
       "    21       False                     \n",
       "  outputs:\n",
       "                       column  dtype count(possible_values) is_nullable  \\\n",
       "    0  probability_high_value  FLOAT                              False   \n",
       "\n",
       "      value_range  \n",
       "    0       * - *  \n",
       "\n",
       "  decisions:\n",
       "           column     dtype  count(possible_values) is_nullable value_range\n",
       "    0  Campaign_A  CATEGORY                       2       False            \n",
       "  targets: [Column(name=\"high_value\", data_type=DataType.INTEGER, possible_values=None, is_nullable=False, value_range_min=0, value_range_max=1)]\n",
       "  misc:\n",
       "    {}"
      ]
     },
     "execution_count": 6,
     "metadata": {},
     "output_type": "execute_result"
    }
   ],
   "source": [
    "model_id = 'high_value_clf' #This must only contain lowercase letters, numbers or underscore\n",
    "\n",
    "\n",
    "outputs = ['probability_high_value'] # Output of our model\n",
    "target = 'high_value' # we're predicting whether the customer is high value (1) or not (0)\n",
    "decision_cols = ['Campaign_A'] # Based on the predicted high_value - should we send the customer this campaign\n",
    "input_features = df.drop(['probability_high_value', 'high_value','Campaign_A'], axis = 1).columns\n",
    "\n",
    "model_info = fdl.ModelInfo.from_dataset_info(\n",
    "    dataset_info=client.get_dataset_info(project_id, dataset_id),\n",
    "    features = input_features,\n",
    "    target=target, \n",
    "    decision_cols=decision_cols,\n",
    "    outputs=outputs,\n",
    "    input_type=fdl.ModelInputType.TABULAR,\n",
    "    model_task=fdl.ModelTask.BINARY_CLASSIFICATION,\n",
    "    display_name='High value prediction model',\n",
    "    description='This is a Binary Classification model from the tutorial',\n",
    ")\n",
    "\n",
    "model_info"
   ]
  },
  {
   "cell_type": "markdown",
   "metadata": {},
   "source": [
    "#### Register model"
   ]
  },
  {
   "cell_type": "code",
   "execution_count": 7,
   "metadata": {},
   "outputs": [
    {
     "name": "stdout",
     "output_type": "stream",
     "text": [
      "Loading dataset info ...\n",
      "Validating model info ...\n",
      "Generating model ...\n",
      "Running tests ...\n",
      "All tests passed ..\n",
      "Model output provided\n"
     ]
    },
    {
     "data": {
      "text/plain": [
       "'Model successfully registered on Fiddler. \\n Visit https://trial.fiddler.ai/projects/quickstart '"
      ]
     },
     "execution_count": 7,
     "metadata": {},
     "output_type": "execute_result"
    }
   ],
   "source": [
    "# register model\n",
    "client.register_model(project_id, model_id, dataset_id, model_info)"
   ]
  },
  {
   "cell_type": "markdown",
   "metadata": {},
   "source": [
    "### Step Four: Simulate Monitoring Traffic"
   ]
  },
  {
   "cell_type": "markdown",
   "metadata": {},
   "source": [
    "#### Streaming data example"
   ]
  },
  {
   "cell_type": "markdown",
   "metadata": {},
   "source": [
    "In this step, we will be simulating traffic and monitoring it using [publish_event](https://docs.fiddler.ai/api-reference/python-package/#publish-event). This will be the equivalent of running our model separately on some data, and either sending to Fiddler then (streaming approach), or saving this information to a log and sending at a later point (using a batch upload of the logs).\n",
    "\n",
    "For this demonstration, we will be going with a streaming approach. We will utilize a log containing rows with fields corresponding to:\n",
    "\n",
    "- inputs / features\n",
    "- outputs / predictions\n",
    "- targets / ground truth / labels\n",
    "- decisions"
   ]
  },
  {
   "cell_type": "code",
   "execution_count": 8,
   "metadata": {},
   "outputs": [
    {
     "data": {
      "text/html": [
       "<div>\n",
       "<style scoped>\n",
       "    .dataframe tbody tr th:only-of-type {\n",
       "        vertical-align: middle;\n",
       "    }\n",
       "\n",
       "    .dataframe tbody tr th {\n",
       "        vertical-align: top;\n",
       "    }\n",
       "\n",
       "    .dataframe thead th {\n",
       "        text-align: right;\n",
       "    }\n",
       "</style>\n",
       "<table border=\"1\" class=\"dataframe\">\n",
       "  <thead>\n",
       "    <tr style=\"text-align: right;\">\n",
       "      <th></th>\n",
       "      <th>location_state</th>\n",
       "      <th>customer_lifetime_value</th>\n",
       "      <th>response</th>\n",
       "      <th>coverage</th>\n",
       "      <th>education</th>\n",
       "      <th>effective_to_date</th>\n",
       "      <th>employmentstatus</th>\n",
       "      <th>gender</th>\n",
       "      <th>income</th>\n",
       "      <th>location_code</th>\n",
       "      <th>...</th>\n",
       "      <th>policy_type</th>\n",
       "      <th>policy</th>\n",
       "      <th>renew_offer_type</th>\n",
       "      <th>sales_channel</th>\n",
       "      <th>total_claim_amount</th>\n",
       "      <th>vehicle_class</th>\n",
       "      <th>vehicle_size</th>\n",
       "      <th>high_value</th>\n",
       "      <th>probability_high_value</th>\n",
       "      <th>Campaign_A</th>\n",
       "    </tr>\n",
       "  </thead>\n",
       "  <tbody>\n",
       "    <tr>\n",
       "      <td>0</td>\n",
       "      <td>California</td>\n",
       "      <td>8429.491575</td>\n",
       "      <td>No</td>\n",
       "      <td>Basic</td>\n",
       "      <td>Master</td>\n",
       "      <td>2/1/11</td>\n",
       "      <td>Employed</td>\n",
       "      <td>M</td>\n",
       "      <td>98796</td>\n",
       "      <td>Suburban</td>\n",
       "      <td>...</td>\n",
       "      <td>Personal Auto</td>\n",
       "      <td>Personal L3</td>\n",
       "      <td>Offer4</td>\n",
       "      <td>Agent</td>\n",
       "      <td>499.200000</td>\n",
       "      <td>SUV</td>\n",
       "      <td>Medsize</td>\n",
       "      <td>1</td>\n",
       "      <td>0.515639</td>\n",
       "      <td>Yes</td>\n",
       "    </tr>\n",
       "    <tr>\n",
       "      <td>1</td>\n",
       "      <td>Oregon</td>\n",
       "      <td>2709.539796</td>\n",
       "      <td>No</td>\n",
       "      <td>Basic</td>\n",
       "      <td>College</td>\n",
       "      <td>1/17/11</td>\n",
       "      <td>Employed</td>\n",
       "      <td>F</td>\n",
       "      <td>58828</td>\n",
       "      <td>Suburban</td>\n",
       "      <td>...</td>\n",
       "      <td>Personal Auto</td>\n",
       "      <td>Personal L3</td>\n",
       "      <td>Offer1</td>\n",
       "      <td>Agent</td>\n",
       "      <td>446.751243</td>\n",
       "      <td>Four-Door Car</td>\n",
       "      <td>Small</td>\n",
       "      <td>0</td>\n",
       "      <td>0.000000</td>\n",
       "      <td>No</td>\n",
       "    </tr>\n",
       "    <tr>\n",
       "      <td>2</td>\n",
       "      <td>Washington</td>\n",
       "      <td>19644.762960</td>\n",
       "      <td>No</td>\n",
       "      <td>Basic</td>\n",
       "      <td>College</td>\n",
       "      <td>2/12/11</td>\n",
       "      <td>Employed</td>\n",
       "      <td>F</td>\n",
       "      <td>67326</td>\n",
       "      <td>Suburban</td>\n",
       "      <td>...</td>\n",
       "      <td>Corporate Auto</td>\n",
       "      <td>Corporate L1</td>\n",
       "      <td>Offer1</td>\n",
       "      <td>Agent</td>\n",
       "      <td>331.200000</td>\n",
       "      <td>Four-Door Car</td>\n",
       "      <td>Medsize</td>\n",
       "      <td>1</td>\n",
       "      <td>0.515524</td>\n",
       "      <td>Yes</td>\n",
       "    </tr>\n",
       "    <tr>\n",
       "      <td>3</td>\n",
       "      <td>Arizona</td>\n",
       "      <td>2710.918992</td>\n",
       "      <td>No</td>\n",
       "      <td>Extended</td>\n",
       "      <td>College</td>\n",
       "      <td>2/10/11</td>\n",
       "      <td>Unemployed</td>\n",
       "      <td>M</td>\n",
       "      <td>0</td>\n",
       "      <td>Suburban</td>\n",
       "      <td>...</td>\n",
       "      <td>Corporate Auto</td>\n",
       "      <td>Corporate L3</td>\n",
       "      <td>Offer4</td>\n",
       "      <td>Call Center</td>\n",
       "      <td>547.200000</td>\n",
       "      <td>Two-Door Car</td>\n",
       "      <td>Medsize</td>\n",
       "      <td>0</td>\n",
       "      <td>0.000000</td>\n",
       "      <td>No</td>\n",
       "    </tr>\n",
       "    <tr>\n",
       "      <td>4</td>\n",
       "      <td>California</td>\n",
       "      <td>19337.901030</td>\n",
       "      <td>No</td>\n",
       "      <td>Extended</td>\n",
       "      <td>College</td>\n",
       "      <td>2/8/11</td>\n",
       "      <td>Employed</td>\n",
       "      <td>M</td>\n",
       "      <td>26488</td>\n",
       "      <td>Suburban</td>\n",
       "      <td>...</td>\n",
       "      <td>Personal Auto</td>\n",
       "      <td>Personal L2</td>\n",
       "      <td>Offer1</td>\n",
       "      <td>Web</td>\n",
       "      <td>1321.584957</td>\n",
       "      <td>Luxury SUV</td>\n",
       "      <td>Medsize</td>\n",
       "      <td>1</td>\n",
       "      <td>0.517045</td>\n",
       "      <td>Yes</td>\n",
       "    </tr>\n",
       "  </tbody>\n",
       "</table>\n",
       "<p>5 rows × 26 columns</p>\n",
       "</div>"
      ],
      "text/plain": [
       "  location_state  customer_lifetime_value response  coverage education  \\\n",
       "0     California              8429.491575       No     Basic    Master   \n",
       "1         Oregon              2709.539796       No     Basic   College   \n",
       "2     Washington             19644.762960       No     Basic   College   \n",
       "3        Arizona              2710.918992       No  Extended   College   \n",
       "4     California             19337.901030       No  Extended   College   \n",
       "\n",
       "  effective_to_date employmentstatus gender  income location_code  ...  \\\n",
       "0            2/1/11         Employed      M   98796      Suburban  ...   \n",
       "1           1/17/11         Employed      F   58828      Suburban  ...   \n",
       "2           2/12/11         Employed      F   67326      Suburban  ...   \n",
       "3           2/10/11       Unemployed      M       0      Suburban  ...   \n",
       "4            2/8/11         Employed      M   26488      Suburban  ...   \n",
       "\n",
       "      policy_type        policy  renew_offer_type  sales_channel  \\\n",
       "0   Personal Auto   Personal L3            Offer4          Agent   \n",
       "1   Personal Auto   Personal L3            Offer1          Agent   \n",
       "2  Corporate Auto  Corporate L1            Offer1          Agent   \n",
       "3  Corporate Auto  Corporate L3            Offer4    Call Center   \n",
       "4   Personal Auto   Personal L2            Offer1            Web   \n",
       "\n",
       "   total_claim_amount  vehicle_class vehicle_size high_value  \\\n",
       "0          499.200000            SUV      Medsize          1   \n",
       "1          446.751243  Four-Door Car        Small          0   \n",
       "2          331.200000  Four-Door Car      Medsize          1   \n",
       "3          547.200000   Two-Door Car      Medsize          0   \n",
       "4         1321.584957     Luxury SUV      Medsize          1   \n",
       "\n",
       "  probability_high_value Campaign_A  \n",
       "0               0.515639        Yes  \n",
       "1               0.000000         No  \n",
       "2               0.515524        Yes  \n",
       "3               0.000000         No  \n",
       "4               0.517045        Yes  \n",
       "\n",
       "[5 rows x 26 columns]"
      ]
     },
     "execution_count": 8,
     "metadata": {},
     "output_type": "execute_result"
    }
   ],
   "source": [
    "event_log = pd.read_csv('../samples/datasets/auto_insurance/event_log.csv')\n",
    "event_log.head()"
   ]
  },
  {
   "cell_type": "markdown",
   "metadata": {},
   "source": [
    "Now we will publish these rows as events. To most accurately simulate this as a time-series event, we will be sending in each row by adding a generated timestamp with it. Real data will ideally have a timestamp related to when the event took place; otherwise, the current time will be used.\n",
    "\n",
    "**Note**: The timestamp must be in UTC milliseconds. See [here](https://docs.fiddler.ai/api-reference/python-package/#publish-event) for more details"
   ]
  },
  {
   "cell_type": "code",
   "execution_count": 9,
   "metadata": {},
   "outputs": [
    {
     "name": "stdout",
     "output_type": "stream",
     "text": [
      "Sending 1440 / 1440 \n",
      "2021-05-06 13:40:09.912000 UTC: \n",
      "{'location_state': 'Oregon', 'customer_lifetime_value': 5391.970996, 'response': 'No', 'coverage': 'Basic', 'education': 'College', 'effective_to_date': '2/21/11', 'employmentstatus': 'Employed', 'gender': 'F', 'income': 41662, 'location_code': 'Urban', 'marital_status': 'Divorced', 'monthly_premium_auto': 69, 'months_since_last_claim': 27, 'months_since_policy_inception': 73, 'number_of_open_complaints': 0, 'number_of_policies': 6, 'policy_type': 'Corporate Auto', 'policy': 'Corporate L3', 'renew_offer_type': 'Offer1', 'sales_channel': 'Agent', 'total_claim_amount': 217.973168, 'vehicle_class': 'Four-Door Car', 'vehicle_size': 'Medsize', 'high_value': 1, 'probability_high_value': 0.4912975570321921, 'Campaign_A': 'Yes', '__event_type': 'execution_event', '__occurred_at': 1620333609912.0}\n"
     ]
    }
   ],
   "source": [
    "\n",
    "NUM_EVENTS_TO_SEND = 288*5 # an event every 5 minutes sent for 10 days\n",
    "FIVE_MINUTES_MS = 300000\n",
    "ONE_DAY_MS = 8.64e+7\n",
    "start_date = round(time.time() * 1000) - (ONE_DAY_MS * 5)\n",
    "        \n",
    "# Convert this dataframe into a list of dictionary events, where each event is its own dictionary\n",
    "event_list_dict = event_log.sample(n=NUM_EVENTS_TO_SEND).to_dict(orient='records') \n",
    "\n",
    "for ind, event_dict in enumerate(event_list_dict):\n",
    "    event_ms_time_stamp = start_date + ind * FIVE_MINUTES_MS\n",
    "    client.publish_event(project_id, model_id, event_dict, event_time_stamp=event_ms_time_stamp)\n",
    "    \n",
    "    clear_output(wait = True)\n",
    "    readable_timestamp = datetime.datetime.fromtimestamp(event_ms_time_stamp/1000.0)\n",
    "    \n",
    "    print(f'Sending {ind+1} / {NUM_EVENTS_TO_SEND} \\n{readable_timestamp} UTC: \\n{event_dict}')\n",
    "    time.sleep(0.01)\n",
    "    \n",
    "    \n",
    "    "
   ]
  },
  {
   "cell_type": "markdown",
   "metadata": {},
   "source": [
    "[**Note**: In the case that labels are ingested in a future point, an event can be updated by calling publish_event with update_event = True. See [here](https://docs.fiddler.ai/api-reference/python-package/#publish-event) for more details.]"
   ]
  },
  {
   "cell_type": "markdown",
   "metadata": {},
   "source": [
    "## Seeing Monitoring Traffic\n",
    "We can now consult our Fiddler instance to visualize our monitoring results. We can see our newly created project within the Projects Overview section:\n",
    "\n",
    "<img src=\"images/qs_projects_list.png\" width=1000 height=1000 />\n",
    "\n",
    "Within our project, we can click `gradient_boosting_regressor` to see our model we created. From there, we can see the traffic that reflects the events we sent by going to the Monitor Section at the top:\n",
    "\n",
    "<img src=\"images/qs_monitoring_look.png\" width=1000 height=1000 />\n",
    "\n",
    "For a walkthrough to learn more about navigating the product, please consult our [Product Tour](https://docs.fiddler.ai/product-tour/)"
   ]
  }
 ],
 "metadata": {
  "kernelspec": {
   "display_name": "Python 3",
   "language": "python",
   "name": "python3"
  },
  "language_info": {
   "codemirror_mode": {
    "name": "ipython",
    "version": 3
   },
   "file_extension": ".py",
   "mimetype": "text/x-python",
   "name": "python",
   "nbconvert_exporter": "python",
   "pygments_lexer": "ipython3",
   "version": "3.7.9"
  }
 },
 "nbformat": 4,
 "nbformat_minor": 2
}
